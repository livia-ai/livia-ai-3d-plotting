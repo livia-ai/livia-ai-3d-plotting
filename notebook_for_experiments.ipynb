{
 "cells": [
  {
   "cell_type": "markdown",
   "id": "f8797a95",
   "metadata": {},
   "source": [
    "### Imports"
   ]
  },
  {
   "cell_type": "code",
   "execution_count": 1,
   "id": "a08e416e",
   "metadata": {
    "ExecuteTime": {
     "end_time": "2022-04-27T06:05:06.287585Z",
     "start_time": "2022-04-27T06:05:05.748293Z"
    }
   },
   "outputs": [
    {
     "ename": "ModuleNotFoundError",
     "evalue": "No module named 'torch'",
     "output_type": "error",
     "traceback": [
      "\u001b[0;31m---------------------------------------------------------------------------\u001b[0m",
      "\u001b[0;31mModuleNotFoundError\u001b[0m                       Traceback (most recent call last)",
      "\u001b[0;32m/tmp/ipykernel_6688/2325570271.py\u001b[0m in \u001b[0;36m<module>\u001b[0;34m\u001b[0m\n\u001b[1;32m      1\u001b[0m \u001b[0;32mimport\u001b[0m \u001b[0mpandas\u001b[0m \u001b[0;32mas\u001b[0m \u001b[0mpd\u001b[0m\u001b[0;34m\u001b[0m\u001b[0;34m\u001b[0m\u001b[0m\n\u001b[1;32m      2\u001b[0m \u001b[0;32mimport\u001b[0m \u001b[0mnumpy\u001b[0m \u001b[0;32mas\u001b[0m \u001b[0mnp\u001b[0m\u001b[0;34m\u001b[0m\u001b[0;34m\u001b[0m\u001b[0m\n\u001b[0;32m----> 3\u001b[0;31m \u001b[0;32mimport\u001b[0m \u001b[0mtorch\u001b[0m\u001b[0;34m\u001b[0m\u001b[0;34m\u001b[0m\u001b[0m\n\u001b[0m\u001b[1;32m      4\u001b[0m \u001b[0;34m\u001b[0m\u001b[0m\n\u001b[1;32m      5\u001b[0m \u001b[0;31m# NLP preprocessing\u001b[0m\u001b[0;34m\u001b[0m\u001b[0;34m\u001b[0m\u001b[0m\n",
      "\u001b[0;31mModuleNotFoundError\u001b[0m: No module named 'torch'"
     ]
    }
   ],
   "source": [
    "import pandas as pd\n",
    "import numpy as np\n",
    "import torch\n",
    "\n",
    "# NLP preprocessing\n",
    "import nltk\n",
    "nltk.download('stopwords')\n",
    "from nltk.tokenize import word_tokenize\n",
    "from nltk.corpus import stopwords\n",
    "\n",
    "# Bert\n",
    "from transformers import BertTokenizer, BertModel\n",
    "# Sentence Transformers\n",
    "from sentence_transformers import SentenceTransformer\n",
    "\n",
    "# Dimensionality reduction\n",
    "from sklearn.decomposition import PCA\n",
    "\n",
    "# Plotting\n",
    "import plotly.express as px"
   ]
  },
  {
   "cell_type": "markdown",
   "id": "fc3efbeb",
   "metadata": {},
   "source": [
    "### Wien Museum"
   ]
  },
  {
   "cell_type": "code",
   "execution_count": null,
   "id": "19dcbe52",
   "metadata": {
    "ExecuteTime": {
     "end_time": "2022-04-26T08:11:51.025729Z",
     "start_time": "2022-04-26T08:11:50.335400Z"
    }
   },
   "outputs": [],
   "source": [
    "wm_data = pd.read_csv(\"data/wien_museum.csv\")\n",
    "wm_data.columns"
   ]
  },
  {
   "cell_type": "code",
   "execution_count": null,
   "id": "2f3be2cf",
   "metadata": {
    "ExecuteTime": {
     "end_time": "2022-04-26T08:11:51.041751Z",
     "start_time": "2022-04-26T08:11:51.027486Z"
    }
   },
   "outputs": [],
   "source": [
    "wm_data.head()"
   ]
  },
  {
   "cell_type": "code",
   "execution_count": null,
   "id": "c3df1d33",
   "metadata": {
    "ExecuteTime": {
     "end_time": "2022-04-26T08:11:51.047663Z",
     "start_time": "2022-04-26T08:11:51.043166Z"
    }
   },
   "outputs": [],
   "source": [
    "# resonable columns\n",
    "wm_data.columns[[0,3,4,5,6,7,8]]"
   ]
  },
  {
   "cell_type": "code",
   "execution_count": null,
   "id": "c3035e61",
   "metadata": {
    "ExecuteTime": {
     "end_time": "2022-04-26T08:11:51.055769Z",
     "start_time": "2022-04-26T08:11:51.049088Z"
    }
   },
   "outputs": [],
   "source": [
    "wm_filtered = wm_data[wm_data.columns[[0,3,4,5,6,7,8]]]\n",
    "#wm_filtered.head()"
   ]
  },
  {
   "cell_type": "code",
   "execution_count": null,
   "id": "e3e70497",
   "metadata": {
    "ExecuteTime": {
     "end_time": "2022-04-26T08:11:51.059273Z",
     "start_time": "2022-04-26T08:11:51.057172Z"
    }
   },
   "outputs": [],
   "source": [
    "#full_text = wm_filtered[wm_filtered.columns[1:]].apply(lambda x: ' '.join(x.dropna().astype(str)),axis=1)\n",
    "#wm_filtered.insert(1, \"full_text\", full_text, True)"
   ]
  },
  {
   "cell_type": "code",
   "execution_count": null,
   "id": "32f4618a",
   "metadata": {
    "ExecuteTime": {
     "end_time": "2022-04-26T08:11:57.953536Z",
     "start_time": "2022-04-26T08:11:51.061199Z"
    }
   },
   "outputs": [],
   "source": [
    "wm_filtered = wm_filtered.assign(full_text = wm_filtered[wm_filtered.columns[1:]].apply(lambda x: ' '.join(x.dropna().astype(str)),axis=1))"
   ]
  },
  {
   "cell_type": "code",
   "execution_count": null,
   "id": "a6ab313f",
   "metadata": {
    "ExecuteTime": {
     "end_time": "2022-04-26T08:11:57.958339Z",
     "start_time": "2022-04-26T08:11:57.955098Z"
    }
   },
   "outputs": [],
   "source": [
    "wm_filtered[\"full_text\"][0]"
   ]
  },
  {
   "cell_type": "code",
   "execution_count": null,
   "id": "cc08a8a2",
   "metadata": {
    "ExecuteTime": {
     "end_time": "2022-04-26T08:12:04.328184Z",
     "start_time": "2022-04-26T08:11:57.959426Z"
    },
    "scrolled": true
   },
   "outputs": [],
   "source": [
    "def preprocessing(text_data: pd.DataFrame) -> pd.DataFrame:\n",
    "\n",
    "    helper = text_data.copy(deep = True)\n",
    "    helper = helper.assign(pre_text = helper[\"full_text\"]) \n",
    "    tokenizer = nltk.RegexpTokenizer(r\"\\w+\")\n",
    "    cachedStopWords = stopwords.words('german')\n",
    "    \n",
    "    # noch kein Stemmer -> könnt ma auch probieren hab online ein bisschen geschaut und die\n",
    "    # Qualität von deutschen Stemmern ist relativ bescheiden\n",
    "    \n",
    "    # iterate over all documents and tokenize each text\n",
    "    i = 0\n",
    "    for text in helper[\"full_text\"]:\n",
    "        # text = text.lower()\n",
    "        # remove special characters and do tokenization\n",
    "        text = np.array(tokenizer.tokenize(text))\n",
    "        #remove stopwords\n",
    "        text = [word for word in text if not word in cachedStopWords]\n",
    "        \n",
    "        helper.at[i,\"pre_text\"] = text\n",
    "        i += 1\n",
    "        \n",
    "    return helper\n",
    "\n",
    "wm_preprocessed = preprocessing(wm_filtered)"
   ]
  },
  {
   "cell_type": "code",
   "execution_count": null,
   "id": "94e913cb",
   "metadata": {
    "ExecuteTime": {
     "end_time": "2022-04-26T08:12:04.332815Z",
     "start_time": "2022-04-26T08:12:04.329572Z"
    }
   },
   "outputs": [],
   "source": [
    "print(wm_preprocessed[\"full_text\"][0])\n",
    "print()\n",
    "print(wm_preprocessed[\"pre_text\"][0])"
   ]
  },
  {
   "cell_type": "markdown",
   "id": "1cfc9631",
   "metadata": {},
   "source": [
    "### BERT"
   ]
  },
  {
   "cell_type": "code",
   "execution_count": null,
   "id": "a0d63e56",
   "metadata": {
    "ExecuteTime": {
     "end_time": "2022-04-26T08:12:04.341636Z",
     "start_time": "2022-04-26T08:12:04.334317Z"
    }
   },
   "outputs": [],
   "source": [
    "# tokenizer = BertTokenizer.from_pretrained('bert-base-multilingual-cased')\n",
    "# model = BertModel.from_pretrained(\"bert-base-multilingual-cased\")"
   ]
  },
  {
   "cell_type": "code",
   "execution_count": null,
   "id": "10df8f26",
   "metadata": {
    "ExecuteTime": {
     "end_time": "2022-04-20T07:32:30.659419Z",
     "start_time": "2022-04-20T07:32:30.657441Z"
    }
   },
   "outputs": [],
   "source": [
    "# text = \"Hallo ich bin Bert\"\n",
    "# tokenizer.tokenize(text)"
   ]
  },
  {
   "cell_type": "code",
   "execution_count": null,
   "id": "e50123d8",
   "metadata": {
    "ExecuteTime": {
     "end_time": "2022-04-20T07:32:30.663128Z",
     "start_time": "2022-04-20T07:32:30.660853Z"
    },
    "code_folding": []
   },
   "outputs": [],
   "source": [
    "# from tqdm import tqdm\n",
    "\n",
    "# sentence_embeddings_bert_mean = list()\n",
    "# with torch.no_grad():\n",
    "#    i = 0\n",
    "#    texts = wm_preprocessed[\"pre_text\"][:100]\n",
    "#    for idx in tqdm(range(len(texts))):\n",
    "#        encoded_input = tokenizer(' '.join(texts[idx]), return_tensors='pt')\n",
    " #       output = model(**encoded_input)\n",
    " #       mean_sentence_embedding = np.mean(output[0].numpy(), axis = 1)[0]\n",
    " #       sentence_embeddings_bert_mean.append(mean_sentence_embedding)"
   ]
  },
  {
   "cell_type": "code",
   "execution_count": null,
   "id": "d6bb7401",
   "metadata": {
    "ExecuteTime": {
     "end_time": "2022-04-20T07:32:30.667108Z",
     "start_time": "2022-04-20T07:32:30.664776Z"
    }
   },
   "outputs": [],
   "source": [
    "#sentence_embeddings_bert_mean= np.array(sentence_embeddings_bert_mean)\n",
    "#sentence_embeddings_bert_mean.shape"
   ]
  },
  {
   "cell_type": "markdown",
   "id": "3ea8d698",
   "metadata": {},
   "source": [
    "### Sentence Transformers"
   ]
  },
  {
   "cell_type": "code",
   "execution_count": null,
   "id": "40a4f667",
   "metadata": {
    "ExecuteTime": {
     "end_time": "2022-04-20T07:32:30.671341Z",
     "start_time": "2022-04-20T07:32:30.668740Z"
    }
   },
   "outputs": [],
   "source": [
    "# model = SentenceTransformer('distiluse-base-multilingual-cased-v1')"
   ]
  },
  {
   "cell_type": "code",
   "execution_count": null,
   "id": "905a5e51",
   "metadata": {
    "ExecuteTime": {
     "end_time": "2022-04-20T07:32:30.675036Z",
     "start_time": "2022-04-20T07:32:30.672881Z"
    }
   },
   "outputs": [],
   "source": [
    "#text_list = []\n",
    "#for text in wm_preprocessed[\"pre_text\"]:\n",
    "#    text_list.append(' '.join(text))"
   ]
  },
  {
   "cell_type": "code",
   "execution_count": null,
   "id": "079df90d",
   "metadata": {
    "ExecuteTime": {
     "end_time": "2022-04-20T07:32:30.678906Z",
     "start_time": "2022-04-20T07:32:30.676565Z"
    }
   },
   "outputs": [],
   "source": [
    "#sentence_embeddings = model.encode(text_list)\n",
    "#sentence_embeddings.shape"
   ]
  },
  {
   "cell_type": "markdown",
   "id": "08547229",
   "metadata": {},
   "source": [
    "#### Save sentence embeddings"
   ]
  },
  {
   "cell_type": "code",
   "execution_count": null,
   "id": "13205ec3",
   "metadata": {
    "ExecuteTime": {
     "end_time": "2022-04-20T07:32:30.682828Z",
     "start_time": "2022-04-20T07:32:30.680496Z"
    }
   },
   "outputs": [],
   "source": [
    "# most precise\n",
    "#np.savetxt('sentence_embeddings.csv', sentence_embeddings, delimiter=',')"
   ]
  },
  {
   "cell_type": "markdown",
   "id": "8d8d7759",
   "metadata": {},
   "source": [
    "####  Load sentence embeddings"
   ]
  },
  {
   "cell_type": "code",
   "execution_count": null,
   "id": "27fb9e1e",
   "metadata": {
    "ExecuteTime": {
     "end_time": "2022-04-26T08:12:14.233729Z",
     "start_time": "2022-04-26T08:12:13.565431Z"
    }
   },
   "outputs": [],
   "source": [
    "# most precise\n",
    "sentence_embeddings_txt = np.loadtxt('data/sentence_embeddings_wien_museum.csv', delimiter=',')"
   ]
  },
  {
   "cell_type": "code",
   "execution_count": null,
   "id": "5a3412da",
   "metadata": {
    "ExecuteTime": {
     "end_time": "2022-04-20T07:32:51.465107Z",
     "start_time": "2022-04-20T07:32:51.463120Z"
    }
   },
   "outputs": [],
   "source": [
    "sentence_embeddings = sentence_embeddings_txt"
   ]
  },
  {
   "cell_type": "markdown",
   "id": "0a8f00a8",
   "metadata": {},
   "source": [
    "### Dimensionality Reduction"
   ]
  },
  {
   "cell_type": "code",
   "execution_count": null,
   "id": "5f4752ab",
   "metadata": {
    "ExecuteTime": {
     "end_time": "2022-04-12T08:17:07.439788Z",
     "start_time": "2022-04-12T08:17:07.430199Z"
    }
   },
   "outputs": [],
   "source": [
    "test_embs = sentence_embeddings[:]\n",
    "test_embs.shape"
   ]
  },
  {
   "cell_type": "markdown",
   "id": "1218e04c",
   "metadata": {},
   "source": [
    "#### PCA"
   ]
  },
  {
   "cell_type": "code",
   "execution_count": null,
   "id": "4e1e3f0e",
   "metadata": {
    "ExecuteTime": {
     "end_time": "2022-04-12T08:17:07.752435Z",
     "start_time": "2022-04-12T08:17:07.440928Z"
    }
   },
   "outputs": [],
   "source": [
    "# standardize data\n",
    "stand_test_embs = (test_embs - np.mean(test_embs, axis=0)) / np.std(test_embs, axis=0)"
   ]
  },
  {
   "cell_type": "code",
   "execution_count": null,
   "id": "e99c0e89",
   "metadata": {
    "ExecuteTime": {
     "end_time": "2022-04-12T08:17:20.986063Z",
     "start_time": "2022-04-12T08:17:07.755506Z"
    }
   },
   "outputs": [],
   "source": []
  },
  {
   "cell_type": "code",
   "execution_count": null,
   "id": "02b9d31e",
   "metadata": {
    "ExecuteTime": {
     "end_time": "2022-04-12T08:17:34.813268Z",
     "start_time": "2022-04-12T08:17:20.987650Z"
    }
   },
   "outputs": [],
   "source": [
    "for n in [1,3,5,10,25,50,100,250,512]:\n",
    "    stand_pca = PCA(n_components=n)\n",
    "    embeddings_stand_pca = stand_pca.fit_transform(stand_test_embs)\n",
    "    print(n, sum(stand_pca.explained_variance_ratio_))\n",
    "    "
   ]
  },
  {
   "cell_type": "code",
   "execution_count": null,
   "id": "64971e90",
   "metadata": {
    "ExecuteTime": {
     "end_time": "2022-04-12T08:17:34.817873Z",
     "start_time": "2022-04-12T08:17:34.815756Z"
    }
   },
   "outputs": [],
   "source": [
    "# components to try -> 50,75,100,150,200,250, 512"
   ]
  },
  {
   "cell_type": "markdown",
   "id": "20359e09",
   "metadata": {},
   "source": [
    "**Mean Sentence Embedding from Bert**"
   ]
  },
  {
   "cell_type": "code",
   "execution_count": null,
   "id": "4500da45",
   "metadata": {
    "ExecuteTime": {
     "end_time": "2022-04-12T08:17:34.822645Z",
     "start_time": "2022-04-12T08:17:34.819209Z"
    }
   },
   "outputs": [],
   "source": [
    "#pca = PCA(n_components=3)\n",
    "#embeddings_pca_bert = pca.fit_transform(sentence_embeddings_bert_mean)\n",
    "#pca.explained_variance_ratio_\n",
    "#sum(pca.explained_variance_ratio_)"
   ]
  },
  {
   "cell_type": "markdown",
   "id": "69f0ba5b",
   "metadata": {},
   "source": [
    "#### TSNE -> kein brauchbares Ergebniss"
   ]
  },
  {
   "cell_type": "markdown",
   "id": "ed1ff8ba",
   "metadata": {},
   "source": [
    "#### LDA, KernelPCA\n",
    "\n",
    "* Matrix Decomposition Algorithms + Manifold Learning Algorithm-> scikit-learn\n",
    "* Unsupervised Learning Skript + Slides"
   ]
  },
  {
   "cell_type": "markdown",
   "id": "fb025569",
   "metadata": {},
   "source": [
    "### Clustering"
   ]
  },
  {
   "cell_type": "code",
   "execution_count": null,
   "id": "4cf26db2",
   "metadata": {
    "ExecuteTime": {
     "end_time": "2022-04-12T08:18:11.161614Z",
     "start_time": "2022-04-12T08:18:11.142820Z"
    }
   },
   "outputs": [],
   "source": [
    "from sklearn.cluster import KMeans\n",
    "from sklearn.cluster import DBSCAN\n",
    "from sklearn.cluster import OPTICS\n",
    "from sklearn.mixture import GaussianMixture\n",
    "from sklearn.cluster import Birch\n",
    "# from sklearn.cluster import AffinityPropagation -> zu wenig RAM"
   ]
  },
  {
   "cell_type": "markdown",
   "id": "f3d33d06",
   "metadata": {},
   "source": [
    "#### K-Means"
   ]
  },
  {
   "cell_type": "code",
   "execution_count": null,
   "id": "846f91b9",
   "metadata": {
    "ExecuteTime": {
     "end_time": "2022-04-12T08:18:18.694936Z",
     "start_time": "2022-04-12T08:18:11.476782Z"
    }
   },
   "outputs": [],
   "source": [
    "nr_clusters = 8\n",
    "k_means = KMeans(n_clusters=nr_clusters, random_state=123).fit(sentence_embeddings)\n",
    "k_means_labels = k_means.labels_\n",
    "print(k_means.labels_)\n",
    "print(k_means.cluster_centers_)"
   ]
  },
  {
   "cell_type": "markdown",
   "id": "04436091",
   "metadata": {},
   "source": [
    "#### Plot and color by cluster"
   ]
  },
  {
   "cell_type": "code",
   "execution_count": null,
   "id": "896a536f",
   "metadata": {
    "ExecuteTime": {
     "end_time": "2022-04-12T08:18:18.700764Z",
     "start_time": "2022-04-12T08:18:18.696661Z"
    }
   },
   "outputs": [],
   "source": [
    "#wm_preprocessed"
   ]
  },
  {
   "cell_type": "code",
   "execution_count": null,
   "id": "88be708e",
   "metadata": {
    "ExecuteTime": {
     "end_time": "2022-04-12T08:18:18.803716Z",
     "start_time": "2022-04-12T08:18:18.702659Z"
    }
   },
   "outputs": [],
   "source": [
    "length = 50\n",
    "df_k_means = wm_filtered[:][[\"id\",\"classifications\", \"subjects\"]]\n",
    "df_k_means[\"title\"] = wm_filtered[\"title\"][:].apply(lambda x: x[:length] if len(x)>length else x)\n",
    "df_k_means[\"x\"] = embeddings_pca[:,0]\n",
    "df_k_means[\"y\"] = embeddings_pca[:,1]\n",
    "df_k_means[\"z\"] = embeddings_pca[:,2]\n",
    "df_k_means[\"label\"] = k_means_labels\n",
    "\n",
    "df_k_means.fillna('NaN', inplace=True)\n",
    "df_k_means.head()\n",
    "\n",
    "\n",
    "title = \"Visualization of: Sentence Transformer Vectors + PCA + K-means Color\""
   ]
  },
  {
   "cell_type": "code",
   "execution_count": null,
   "id": "ff82dd56",
   "metadata": {
    "ExecuteTime": {
     "end_time": "2022-04-12T08:18:18.818964Z",
     "start_time": "2022-04-12T08:18:18.805763Z"
    }
   },
   "outputs": [],
   "source": [
    "df_k_means"
   ]
  },
  {
   "cell_type": "code",
   "execution_count": null,
   "id": "e4b1e91a",
   "metadata": {
    "ExecuteTime": {
     "end_time": "2022-04-12T08:18:21.285339Z",
     "start_time": "2022-04-12T08:18:18.820391Z"
    }
   },
   "outputs": [],
   "source": [
    "fig = px.scatter_3d(df_k_means, x='x', y='y', z='z', \n",
    "                    color='label', hover_name=\"title\", hover_data=[\"id\", \"classifications\"],\n",
    "                    width=1100, height=800,# adjust height and width\n",
    "                    title=title)\n",
    "\n",
    "fig.update_layout(legend = dict(\n",
    "                        font = dict(size = 10)\n",
    "                        ), \n",
    "                  \n",
    "                  hoverlabel=dict(\n",
    "                        font_size=9,\n",
    "                        )\n",
    "                )\n",
    "\n",
    "fig.update_traces(marker_size = 3)\n",
    "\n",
    "fig.show()"
   ]
  },
  {
   "cell_type": "markdown",
   "id": "564f90da",
   "metadata": {},
   "source": [
    "#### Plot statistics of the clusters"
   ]
  },
  {
   "cell_type": "code",
   "execution_count": null,
   "id": "c45f0bb9",
   "metadata": {
    "ExecuteTime": {
     "end_time": "2022-04-12T08:18:21.337103Z",
     "start_time": "2022-04-12T08:18:21.286914Z"
    }
   },
   "outputs": [],
   "source": [
    "counts = df_k_means[\"classifications\"].value_counts().to_frame(name = \"counts_full\")\n",
    "counts.index.name = 'classifications'\n",
    "counts.reset_index(inplace=True)\n",
    "\n",
    "for i in range(nr_clusters):\n",
    "    only_one_cluster = df_k_means.loc[df_k_means['label'] == i]\n",
    "    counts_cluster = only_one_cluster[\"classifications\"].value_counts().to_frame(name = f\"counts_{i}\")\n",
    "    counts_cluster.index.name = 'classifications'\n",
    "    counts_cluster.reset_index(inplace=True)\n",
    "    counts = pd.merge(counts, counts_cluster, on='classifications', how='left')\n",
    "counts = counts.fillna(0)"
   ]
  },
  {
   "cell_type": "code",
   "execution_count": null,
   "id": "397ba459",
   "metadata": {
    "ExecuteTime": {
     "end_time": "2022-04-12T08:18:21.353914Z",
     "start_time": "2022-04-12T08:18:21.338330Z"
    }
   },
   "outputs": [],
   "source": [
    "counts"
   ]
  },
  {
   "cell_type": "code",
   "execution_count": null,
   "id": "720a818c",
   "metadata": {
    "ExecuteTime": {
     "end_time": "2022-04-12T08:18:21.438920Z",
     "start_time": "2022-04-12T08:18:21.355015Z"
    }
   },
   "outputs": [],
   "source": [
    "import altair as alt"
   ]
  },
  {
   "cell_type": "code",
   "execution_count": null,
   "id": "e845874f",
   "metadata": {
    "ExecuteTime": {
     "end_time": "2022-04-12T08:18:21.465640Z",
     "start_time": "2022-04-12T08:18:21.440195Z"
    }
   },
   "outputs": [],
   "source": [
    "# plot on full dataset\n",
    "alt.data_transformers.disable_max_rows()\n",
    "bars = alt.Chart(counts).mark_bar().encode(\n",
    "    x=alt.X('classifications', sort='-y'),\n",
    "    y='counts_full',\n",
    ")\n",
    "\n",
    "bars.configure_axis(labelLimit=400)"
   ]
  },
  {
   "cell_type": "code",
   "execution_count": null,
   "id": "928f1f77",
   "metadata": {
    "ExecuteTime": {
     "end_time": "2022-04-12T08:18:21.469341Z",
     "start_time": "2022-04-12T08:18:21.467604Z"
    }
   },
   "outputs": [],
   "source": [
    "#counts"
   ]
  },
  {
   "cell_type": "code",
   "execution_count": null,
   "id": "5c3536cb",
   "metadata": {
    "ExecuteTime": {
     "end_time": "2022-04-12T08:29:15.774781Z",
     "start_time": "2022-04-12T08:29:11.394071Z"
    },
    "code_folding": []
   },
   "outputs": [],
   "source": [
    "import altair_saver \n",
    "alt.renderers.enable('altair_saver', fmts=['vega-lite', 'png', 'pdf'])\n",
    "\n",
    "\n",
    "bars = alt.Chart(counts).transform_fold(\n",
    "    ['counts_0', 'counts_1', 'counts_2', 'counts_3', 'counts_4', \n",
    "     'counts_5', 'counts_6', 'counts_7'],\n",
    ").mark_bar().encode(\n",
    "    alt.X('classifications', sort='-y', axis=alt.Axis(labelAngle=-90)),\n",
    "    y='value:Q',\n",
    "    color=alt.Color('key:N', legend=alt.Legend(\n",
    "        orient='none',\n",
    "        legendX=130, legendY=-40,\n",
    "        direction='horizontal',\n",
    "        titleAnchor='middle'))\n",
    ").properties(\n",
    "    height=500\n",
    ")\n",
    "\n",
    "\n",
    "bars.configure_axis(labelLimit=400)\n",
    "\n",
    "#bars.save('x.pdf')"
   ]
  },
  {
   "cell_type": "code",
   "execution_count": null,
   "id": "e2436b80",
   "metadata": {
    "ExecuteTime": {
     "end_time": "2022-04-12T08:17:35.339557Z",
     "start_time": "2022-04-12T08:17:35.339546Z"
    }
   },
   "outputs": [],
   "source": [
    "fig = px.scatter_3d(data, x='x', y='y', z='z', \n",
    "                    color='label', hover_name=\"title\", hover_data=[\"id\", \"classifications\"],\n",
    "                    width=1100, height=800,# adjust height and width\n",
    "                    title=title)\n",
    "\n",
    "fig.update_layout(legend = dict(\n",
    "                        font = dict(size = 10)\n",
    "                        ), \n",
    "                  \n",
    "                  hoverlabel=dict(\n",
    "                        font_size=9,\n",
    "                        )\n",
    "                )\n",
    "\n",
    "fig.update_traces(marker_size = 3)\n",
    "\n",
    "fig.show()"
   ]
  },
  {
   "cell_type": "markdown",
   "id": "f6fa7943",
   "metadata": {},
   "source": [
    "#### DBSCAN"
   ]
  },
  {
   "cell_type": "code",
   "execution_count": null,
   "id": "cd9ccec8",
   "metadata": {
    "ExecuteTime": {
     "end_time": "2022-04-12T08:17:35.340535Z",
     "start_time": "2022-04-12T08:17:35.340523Z"
    }
   },
   "outputs": [],
   "source": [
    "# manhattan distance\n",
    "# cosine distance\n",
    "dbs = DBSCAN(eps=5, min_samples=520).fit(sentence_embeddings)\n",
    "dbs_labels = dbs.labels_"
   ]
  },
  {
   "cell_type": "code",
   "execution_count": null,
   "id": "eed56494",
   "metadata": {
    "ExecuteTime": {
     "end_time": "2022-04-12T08:17:35.341193Z",
     "start_time": "2022-04-12T08:17:35.341182Z"
    }
   },
   "outputs": [],
   "source": [
    "print(dbs_labels)\n",
    "print(len(set(dbs_labels)))"
   ]
  },
  {
   "cell_type": "code",
   "execution_count": null,
   "id": "360db78d",
   "metadata": {
    "ExecuteTime": {
     "end_time": "2022-04-12T08:17:35.343675Z",
     "start_time": "2022-04-12T08:17:35.343654Z"
    }
   },
   "outputs": [],
   "source": [
    "length = 50\n",
    "df_dbs = wm_filtered[:][[\"id\",\"classifications\", \"subjects\"]]\n",
    "df_dbs[\"title\"] = wm_filtered[\"title\"][:].apply(lambda x: x[:length] if len(x)>length else x)\n",
    "df_dbs[\"x\"] = embeddings_pca[:,0]\n",
    "df_dbs[\"y\"] = embeddings_pca[:,1]\n",
    "df_dbs[\"z\"] = embeddings_pca[:,2]\n",
    "df_dbs[\"label\"] = dbs_labels\n",
    "\n",
    "df_dbs.fillna('NaN', inplace=True)\n",
    "df_dbs.head()\n",
    "\n",
    "data = df_dbs\n",
    "title = \"Visualization of: Sentence Transformer Vectors + PCA + df_dbs Color\""
   ]
  },
  {
   "cell_type": "code",
   "execution_count": null,
   "id": "9996aeca",
   "metadata": {
    "ExecuteTime": {
     "end_time": "2022-04-12T08:17:35.344809Z",
     "start_time": "2022-04-12T08:17:35.344796Z"
    }
   },
   "outputs": [],
   "source": [
    "fig = px.scatter_3d(data, x='x', y='y', z='z', \n",
    "                    color='label', hover_name=\"title\", hover_data=[\"id\", \"classifications\"],\n",
    "                    width=1100, height=800,# adjust height and width\n",
    "                    title=title)\n",
    "\n",
    "fig.update_layout(legend = dict(\n",
    "                        font = dict(size = 10)\n",
    "                        ), \n",
    "                  \n",
    "                  hoverlabel=dict(\n",
    "                        font_size=9,\n",
    "                        )\n",
    "                )\n",
    "\n",
    "fig.update_traces(marker_size = 3)\n",
    "\n",
    "fig.show()"
   ]
  },
  {
   "cell_type": "code",
   "execution_count": null,
   "id": "25381ec0",
   "metadata": {
    "ExecuteTime": {
     "end_time": "2022-04-12T08:17:35.345615Z",
     "start_time": "2022-04-12T08:17:35.345604Z"
    }
   },
   "outputs": [],
   "source": [
    "#optics = OPTICS().fit(sentence_embeddings)\n",
    "#print(optics.labels_)\n",
    "#print(optics.cluster_centers_)"
   ]
  },
  {
   "cell_type": "code",
   "execution_count": null,
   "id": "79c98366",
   "metadata": {
    "ExecuteTime": {
     "end_time": "2022-04-12T08:17:35.346543Z",
     "start_time": "2022-04-12T08:17:35.346531Z"
    }
   },
   "outputs": [],
   "source": [
    "gm = GaussianMixture(random_state=0).fit(sentence_embeddings)"
   ]
  },
  {
   "cell_type": "code",
   "execution_count": null,
   "id": "a971dc10",
   "metadata": {
    "ExecuteTime": {
     "end_time": "2022-04-12T08:17:35.347304Z",
     "start_time": "2022-04-12T08:17:35.347293Z"
    }
   },
   "outputs": [],
   "source": [
    "brc = Birch(n_clusters=None).fit(sentence_embeddings)\n",
    "print(brc.labels_)"
   ]
  },
  {
   "cell_type": "markdown",
   "id": "11cd3d50",
   "metadata": {},
   "source": [
    "### Plotting"
   ]
  },
  {
   "cell_type": "markdown",
   "id": "6a9f2294",
   "metadata": {},
   "source": [
    "#### PCA"
   ]
  },
  {
   "cell_type": "code",
   "execution_count": null,
   "id": "a6b1f173",
   "metadata": {
    "ExecuteTime": {
     "end_time": "2022-04-12T08:17:35.348064Z",
     "start_time": "2022-04-12T08:17:35.348053Z"
    }
   },
   "outputs": [],
   "source": [
    "length = 50\n",
    "df_pca = wm_filtered[:][[\"classifications\", \"subjects\"]]\n",
    "df_pca[\"title\"] = wm_filtered[\"title\"][:].apply(lambda x: x[:length] if len(x)>length else x)\n",
    "df_pca[\"x\"] = embeddings_pca[:,0]\n",
    "df_pca[\"y\"] = embeddings_pca[:,1]\n",
    "df_pca[\"z\"] = embeddings_pca[:,2]\n",
    "\n",
    "df_pca.fillna('NaN', inplace=True)\n",
    "df_pca.head()\n",
    "\n",
    "data = df_pca\n",
    "title = \"Visualization of: Sentence Transformer Vectors + PCA\""
   ]
  },
  {
   "cell_type": "code",
   "execution_count": null,
   "id": "2e6d61ef",
   "metadata": {
    "ExecuteTime": {
     "end_time": "2022-04-12T08:17:35.349118Z",
     "start_time": "2022-04-12T08:17:35.349100Z"
    },
    "scrolled": false
   },
   "outputs": [],
   "source": [
    "fig = px.scatter_3d(data, x='x', y='y', z='z', \n",
    "                    color='subjects', hover_name=\"title\",\n",
    "                    width=1100, height=800,# adjust height and width\n",
    "                    title=title)\n",
    "\n",
    "fig.update_layout(legend = dict(\n",
    "                        font = dict(size = 10)\n",
    "                        ), \n",
    "                  \n",
    "                  hoverlabel=dict(\n",
    "                        font_size=9,\n",
    "                        )\n",
    "                )\n",
    "fig.show()"
   ]
  },
  {
   "cell_type": "markdown",
   "id": "59cfba00",
   "metadata": {
    "ExecuteTime": {
     "end_time": "2022-04-06T14:04:43.004721Z",
     "start_time": "2022-04-06T14:04:43.002175Z"
    }
   },
   "source": [
    "**Bert sentence vectors**"
   ]
  },
  {
   "cell_type": "code",
   "execution_count": null,
   "id": "74af2e02",
   "metadata": {
    "ExecuteTime": {
     "end_time": "2022-04-12T08:17:35.350003Z",
     "start_time": "2022-04-12T08:17:35.349988Z"
    }
   },
   "outputs": [],
   "source": [
    "length = 50\n",
    "test_df_pca_bert = wm_filtered[:100][[\"classifications\", \"subjects\"]]\n",
    "test_df_pca_bert[\"title\"] = wm_filtered[\"title\"][:100].apply(lambda x: x[:length] if len(x)>length else x)\n",
    "test_df_pca_bert[\"x\"] = embeddings_pca_bert[:,0]\n",
    "test_df_pca_bert[\"y\"] = embeddings_pca_bert[:,1]\n",
    "test_df_pca_bert[\"z\"] = embeddings_pca_bert[:,2]\n",
    "test_df_pca_bert.fillna('NaN', inplace=True)\n",
    "test_df_pca_bert.head()\n",
    "\n",
    "data = test_df_pca_bert\n",
    "title = \"Visualization of: Bert Sentence Vectors + PCA\""
   ]
  },
  {
   "cell_type": "code",
   "execution_count": null,
   "id": "92ffed6c",
   "metadata": {
    "ExecuteTime": {
     "end_time": "2022-04-12T08:17:35.351063Z",
     "start_time": "2022-04-12T08:17:35.351051Z"
    }
   },
   "outputs": [],
   "source": [
    "fig = px.scatter_3d(data, x='x', y='y', z='z', \n",
    "                    color='subjects', hover_name=\"title\",\n",
    "                    width=1100, height=800,# adjust height and width\n",
    "                    title=title)\n",
    "\n",
    "fig.update_layout(legend = dict(\n",
    "                        font = dict(size = 10)\n",
    "                        ), \n",
    "                  \n",
    "                  hoverlabel=dict(\n",
    "                        font_size=9,\n",
    "                        )\n",
    "                )\n",
    "fig.show()\n",
    "\n",
    "# ähnlich aber weiß nicht ob es wirklich besser ist???"
   ]
  },
  {
   "cell_type": "markdown",
   "id": "71887e88",
   "metadata": {},
   "source": [
    "#### KernelPCA"
   ]
  },
  {
   "cell_type": "code",
   "execution_count": null,
   "id": "ff1bae3d",
   "metadata": {
    "ExecuteTime": {
     "end_time": "2022-04-12T08:17:35.352302Z",
     "start_time": "2022-04-12T08:17:35.352289Z"
    }
   },
   "outputs": [],
   "source": [
    "length = 30\n",
    "test_dataframe_kpca = wm_filtered[:100][[\"classifications\", \"subjects\"]]\n",
    "test_dataframe_kpca[\"title\"] = wm_filtered[\"title\"][:100].apply(lambda x: x[:length] if len(x)>length else x)\n",
    "test_dataframe_kpca[\"x\"] = embeddings_kpca[:,0]\n",
    "test_dataframe_kpca[\"y\"] = embeddings_kpca[:,1]\n",
    "test_dataframe_kpca[\"z\"] = embeddings_kpca[:,2]\n",
    "test_dataframe_kpca.fillna('NaN', inplace=True)\n",
    "test_dataframe_kpca.head()\n",
    "\n",
    "data = test_dataframe_kpca\n",
    "title = \"Visualization of: Sentence Transformer Vectors + KernelPCA('poly')\""
   ]
  },
  {
   "cell_type": "code",
   "execution_count": null,
   "id": "5fc3f66d",
   "metadata": {
    "ExecuteTime": {
     "end_time": "2022-04-12T08:17:35.353293Z",
     "start_time": "2022-04-12T08:17:35.353282Z"
    }
   },
   "outputs": [],
   "source": [
    "fig = px.scatter_3d(data, x='x', y='y', z='z', \n",
    "                    color='subjects', hover_name=\"title\",\n",
    "                    width=1100, height=800,# adjust height and width\n",
    "                    title=title)\n",
    "\n",
    "fig.update_layout(legend = dict(\n",
    "                        font = dict(size = 10)\n",
    "                        ), \n",
    "                  \n",
    "                  hoverlabel=dict(\n",
    "                        font_size=9,\n",
    "                        )\n",
    "                )\n",
    "fig.show()"
   ]
  },
  {
   "cell_type": "markdown",
   "id": "aa47fbf5",
   "metadata": {},
   "source": [
    "#### Factor Analysis"
   ]
  },
  {
   "cell_type": "code",
   "execution_count": null,
   "id": "21d63a7b",
   "metadata": {
    "ExecuteTime": {
     "end_time": "2022-04-12T08:17:35.354276Z",
     "start_time": "2022-04-12T08:17:35.354265Z"
    }
   },
   "outputs": [],
   "source": [
    "from sklearn.decomposition import FactorAnalysis\n",
    "\n",
    "method = 'FactorAnalysis'\n",
    "\n",
    "kpca = FactorAnalysis(n_components=3, random_state=0)\n",
    "embeddings_kpca = kpca.fit_transform(test_embs)\n",
    "\n",
    "\n",
    "length = 30\n",
    "test_dataframe_kpca = wm_filtered[:100][[\"classifications\", \"subjects\"]]\n",
    "test_dataframe_kpca[\"title\"] = wm_filtered[\"title\"][:100].apply(lambda x: x[:length] if len(x)>length else x)\n",
    "test_dataframe_kpca[\"x\"] = embeddings_kpca[:,0]\n",
    "test_dataframe_kpca[\"y\"] = embeddings_kpca[:,1]\n",
    "test_dataframe_kpca[\"z\"] = embeddings_kpca[:,2]\n",
    "test_dataframe_kpca.fillna('NaN', inplace=True)\n",
    "test_dataframe_kpca.head()\n",
    "\n",
    "data = test_dataframe_kpca\n",
    "title = f\"Visualization of: Sentence Transformer Vectors + {method})\"\n",
    "\n",
    "\n",
    "\n",
    "fig = px.scatter_3d(data, x='x', y='y', z='z', \n",
    "                    color='subjects', hover_name=\"title\",\n",
    "                    width=1100, height=800,# adjust height and width\n",
    "                    title=title)\n",
    "\n",
    "fig.update_layout(legend = dict(\n",
    "                        font = dict(size = 10)\n",
    "                        ), \n",
    "                  hoverlabel=dict(\n",
    "                        font_size=9,\n",
    "                        )\n",
    "                )\n",
    "fig.show()"
   ]
  },
  {
   "cell_type": "markdown",
   "id": "7692cfee",
   "metadata": {},
   "source": [
    "#### Truncated SVD"
   ]
  },
  {
   "cell_type": "code",
   "execution_count": null,
   "id": "c7c07f13",
   "metadata": {
    "ExecuteTime": {
     "end_time": "2022-04-12T08:17:35.355090Z",
     "start_time": "2022-04-12T08:17:35.355080Z"
    }
   },
   "outputs": [],
   "source": [
    "from sklearn.decomposition import TruncatedSVD\n",
    "# trennt Kurrier/Transportrucksack Fotos schlechter\n",
    "\n",
    "method = 'TruncatedSVD'\n",
    "\n",
    "kpca = TruncatedSVD(n_components=3, random_state=0)\n",
    "embeddings_kpca = kpca.fit_transform(test_embs)\n",
    "\n",
    "\n",
    "length = 30\n",
    "test_dataframe_kpca = wm_filtered[:100][[\"classifications\", \"subjects\"]]\n",
    "test_dataframe_kpca[\"title\"] = wm_filtered[\"title\"][:100].apply(lambda x: x[:length] if len(x)>length else x)\n",
    "test_dataframe_kpca[\"x\"] = embeddings_kpca[:,0]\n",
    "test_dataframe_kpca[\"y\"] = embeddings_kpca[:,1]\n",
    "test_dataframe_kpca[\"z\"] = embeddings_kpca[:,2]\n",
    "test_dataframe_kpca.fillna('NaN', inplace=True)\n",
    "test_dataframe_kpca.head()\n",
    "\n",
    "data = test_dataframe_kpca\n",
    "title = f\"Visualization of: Sentence Transformer Vectors + {method})\"\n",
    "\n",
    "\n",
    "\n",
    "fig = px.scatter_3d(data, x='x', y='y', z='z', \n",
    "                    color='subjects', hover_name=\"title\",\n",
    "                    width=1100, height=800,# adjust height and width\n",
    "                    title=title)\n",
    "\n",
    "fig.update_layout(legend = dict(\n",
    "                        font = dict(size = 10)\n",
    "                        ), \n",
    "                  hoverlabel=dict(\n",
    "                        font_size=9,\n",
    "                        )\n",
    "                )\n",
    "fig.show()"
   ]
  },
  {
   "cell_type": "markdown",
   "id": "1dad58f7",
   "metadata": {},
   "source": [
    "#### Increase number of samples"
   ]
  },
  {
   "cell_type": "code",
   "execution_count": null,
   "id": "24dec027",
   "metadata": {
    "ExecuteTime": {
     "end_time": "2022-04-12T08:17:35.355888Z",
     "start_time": "2022-04-12T08:17:35.355877Z"
    }
   },
   "outputs": [],
   "source": [
    "n_components = 3\n",
    "\n",
    "transformed_embeddings = list()\n",
    "for n in [100, 1000, 10000, 15000, 30000, 45000, 1000000]:\n",
    "    test_embs = sentence_embeddings[:n]\n",
    "    print(\"Nr of samples:\", test_embs.shape[0])\n",
    "    \n",
    "    pca = PCA(n_components=n_components)\n",
    "    embeddings_pca = pca.fit_transform(test_embs)\n",
    "    \n",
    "    transformed_embeddings.append((n,embeddings_pca))\n",
    "    print(pca.explained_variance_ratio_)\n",
    "    print(sum(pca.explained_variance_ratio_))\n",
    "    print()\n",
    "    "
   ]
  },
  {
   "cell_type": "code",
   "execution_count": null,
   "id": "3f279ed5",
   "metadata": {
    "ExecuteTime": {
     "end_time": "2022-04-12T08:17:35.356975Z",
     "start_time": "2022-04-12T08:17:35.356964Z"
    }
   },
   "outputs": [],
   "source": [
    "n,embedding = transformed_embeddings[0]\n",
    "\n",
    "length = 50\n",
    "df = wm_filtered[:n][[\"classifications\", \"subjects\"]]\n",
    "df[\"title\"] = wm_filtered[\"title\"][:n].apply(lambda x: x[:length] if len(x)>length else x)\n",
    "df[\"x\"] = embedding[:,0]\n",
    "df[\"y\"] = embedding[:,1]\n",
    "df[\"z\"] = embedding[:,2]\n",
    "df.fillna('NaN', inplace=True)\n",
    "df.head()\n",
    "\n",
    "data = df\n",
    "title = f\"Visualization of: Sentence Transformer Vectors + PCA + {n} Samples\"\n",
    "\n",
    "\n",
    "fig = px.scatter_3d(data, x='x', y='y', z='z', \n",
    "                    color='subjects', hover_name=\"title\",\n",
    "                    width=1100, height=800,# adjust height and width\n",
    "                    title=title)\n",
    "\n",
    "fig.update_layout(legend = dict(font = dict(size = 10)),\n",
    "                  hoverlabel=dict(font_size=9)\n",
    "                )\n",
    "fig.show()"
   ]
  },
  {
   "cell_type": "code",
   "execution_count": null,
   "id": "a82739d8",
   "metadata": {
    "ExecuteTime": {
     "end_time": "2022-04-12T08:17:35.357957Z",
     "start_time": "2022-04-12T08:17:35.357945Z"
    }
   },
   "outputs": [],
   "source": [
    "n,embedding = transformed_embeddings[1]\n",
    "\n",
    "length = 50\n",
    "df = wm_filtered[:n][[\"classifications\", \"subjects\"]]\n",
    "df[\"title\"] = wm_filtered[\"title\"][:n].apply(lambda x: x[:length] if len(x)>length else x)\n",
    "df[\"x\"] = embedding[:,0]\n",
    "df[\"y\"] = embedding[:,1]\n",
    "df[\"z\"] = embedding[:,2]\n",
    "df.fillna('NaN', inplace=True)\n",
    "df.head()\n",
    "\n",
    "data = df\n",
    "title = f\"Visualization of: Sentence Transformer Vectors + PCA + {n} Samples\"\n",
    "\n",
    "\n",
    "fig = px.scatter_3d(data, x='x', y='y', z='z', \n",
    "                    color='subjects', hover_name=\"title\",\n",
    "                    width=1200, height=800,# adjust height and width\n",
    "                    title=title)\n",
    "\n",
    "fig.update_layout(legend = dict(font = dict(size = 10)),\n",
    "                  hoverlabel=dict(font_size=9)\n",
    "                )\n",
    "fig.show()"
   ]
  },
  {
   "cell_type": "code",
   "execution_count": null,
   "id": "e9321283",
   "metadata": {},
   "outputs": [],
   "source": []
  },
  {
   "cell_type": "code",
   "execution_count": null,
   "id": "63fb9b34",
   "metadata": {},
   "outputs": [],
   "source": []
  },
  {
   "cell_type": "code",
   "execution_count": null,
   "id": "756a68da",
   "metadata": {},
   "outputs": [],
   "source": []
  },
  {
   "cell_type": "code",
   "execution_count": null,
   "id": "cafc8934",
   "metadata": {
    "ExecuteTime": {
     "end_time": "2022-04-12T08:17:35.359076Z",
     "start_time": "2022-04-12T08:17:35.359061Z"
    }
   },
   "outputs": [],
   "source": [
    "Dass soll einen Fehler produzieren"
   ]
  },
  {
   "cell_type": "markdown",
   "id": "70f8b52f",
   "metadata": {},
   "source": [
    "### MAK"
   ]
  },
  {
   "cell_type": "code",
   "execution_count": null,
   "id": "02b1647e",
   "metadata": {
    "ExecuteTime": {
     "end_time": "2022-04-26T08:12:30.100259Z",
     "start_time": "2022-04-26T08:12:30.098155Z"
    }
   },
   "outputs": [],
   "source": [
    "#import xml.etree.ElementTree as ET\n",
    "\n",
    "#xmlTree = ET.parse(path)\n",
    "\n",
    "#data = list()\n",
    "#for elem in xmlTree.iter():\n",
    "#    data.append((elem.tag,elem.text))\n",
    "#    print(elem)\n",
    "#    print(elem.text)"
   ]
  },
  {
   "cell_type": "markdown",
   "id": "841fd9d3",
   "metadata": {},
   "source": [
    "#### Load data"
   ]
  },
  {
   "cell_type": "code",
   "execution_count": null,
   "id": "d4cb3de1",
   "metadata": {
    "ExecuteTime": {
     "end_time": "2022-04-26T08:12:32.941768Z",
     "start_time": "2022-04-26T08:12:30.438005Z"
    }
   },
   "outputs": [],
   "source": [
    "mak_1 = pd.read_csv(\"data/mak_1.csv\")\n",
    "mak_2 = pd.read_csv(\"data/mak_2.csv\")\n",
    "mak_3 = pd.read_csv(\"data/mak_3.csv\")"
   ]
  },
  {
   "cell_type": "code",
   "execution_count": null,
   "id": "c561ae39",
   "metadata": {
    "ExecuteTime": {
     "end_time": "2022-04-26T08:12:33.231401Z",
     "start_time": "2022-04-26T08:12:32.943952Z"
    }
   },
   "outputs": [],
   "source": [
    "frames = [mak_1, mak_2, mak_3]\n",
    "mak = pd.concat(frames)\n",
    "\n",
    "mak"
   ]
  },
  {
   "cell_type": "code",
   "execution_count": null,
   "id": "cc3c1682",
   "metadata": {
    "ExecuteTime": {
     "end_time": "2022-04-26T08:12:33.236090Z",
     "start_time": "2022-04-26T08:12:33.232692Z"
    }
   },
   "outputs": [],
   "source": [
    "mak.columns"
   ]
  },
  {
   "cell_type": "code",
   "execution_count": null,
   "id": "7fe94157",
   "metadata": {
    "ExecuteTime": {
     "end_time": "2022-04-26T08:12:33.240927Z",
     "start_time": "2022-04-26T08:12:33.237721Z"
    }
   },
   "outputs": [],
   "source": [
    "interesting = [0,2,4,15,16,17,21,28,29,31,34,36,38]\n",
    "mak.columns[interesting]"
   ]
  },
  {
   "cell_type": "code",
   "execution_count": null,
   "id": "3f7cf191",
   "metadata": {
    "ExecuteTime": {
     "end_time": "2022-04-15T06:04:31.449966Z",
     "start_time": "2022-04-15T06:04:31.245034Z"
    }
   },
   "outputs": [],
   "source": [
    "mak_filtered = mak[mak.columns[interesting]]\n",
    "#mak_filtered"
   ]
  },
  {
   "cell_type": "code",
   "execution_count": null,
   "id": "02e1be0d",
   "metadata": {
    "ExecuteTime": {
     "end_time": "2022-04-15T06:05:12.734088Z",
     "start_time": "2022-04-15T06:04:45.013657Z"
    }
   },
   "outputs": [],
   "source": [
    "mak_filtered = mak_filtered.assign(full_text = mak_filtered[mak_filtered.columns[1:]].apply(lambda x: ' '.join(x.dropna().astype(str)),axis=1))"
   ]
  },
  {
   "cell_type": "code",
   "execution_count": null,
   "id": "63ac4d75",
   "metadata": {
    "ExecuteTime": {
     "end_time": "2022-04-15T05:59:07.264615Z",
     "start_time": "2022-04-15T05:59:07.260909Z"
    }
   },
   "outputs": [],
   "source": [
    "mak_filtered[\"full_text\"][0]"
   ]
  },
  {
   "cell_type": "code",
   "execution_count": null,
   "id": "0bfca09b",
   "metadata": {
    "ExecuteTime": {
     "end_time": "2022-04-15T06:12:37.316517Z",
     "start_time": "2022-04-15T06:12:37.314191Z"
    }
   },
   "outputs": [],
   "source": [
    "mak_filtered.reset_index(drop=True, inplace=True)"
   ]
  },
  {
   "cell_type": "code",
   "execution_count": null,
   "id": "c55b3893",
   "metadata": {
    "ExecuteTime": {
     "end_time": "2022-04-15T06:13:19.017851Z",
     "start_time": "2022-04-15T06:12:47.117353Z"
    }
   },
   "outputs": [],
   "source": [
    "def preprocessing(text_data: pd.DataFrame) -> pd.DataFrame:\n",
    "\n",
    "    helper = text_data.copy(deep = True)\n",
    "    helper = helper.assign(pre_text = helper[\"full_text\"]) \n",
    "    tokenizer = nltk.RegexpTokenizer(r\"\\w+\")\n",
    "    cachedStopWords = stopwords.words('german')\n",
    "    \n",
    "    # print(helper)\n",
    "    # noch kein Stemmer -> könnt ma auch probieren hab online ein bisschen geschaut und die\n",
    "    # Qualität von deutschen Stemmern ist relativ bescheiden\n",
    "    \n",
    "    # iterate over all documents and tokenize each text\n",
    "    i = 0\n",
    "    for text in helper[\"full_text\"]:\n",
    "        # text = text.lower()\n",
    "        # remove special characters and do tokenization\n",
    "        text = np.array(tokenizer.tokenize(text))\n",
    "        #remove stopwords\n",
    "        text = [word for word in text if not word in cachedStopWords]\n",
    "        \n",
    "        helper.at[i,\"pre_text\"] = text\n",
    "        i += 1\n",
    "        \n",
    "    return helper\n",
    "\n",
    "mak_preprocessed = preprocessing(mak_filtered)"
   ]
  },
  {
   "cell_type": "code",
   "execution_count": null,
   "id": "fd811587",
   "metadata": {
    "ExecuteTime": {
     "end_time": "2022-04-15T06:13:51.476483Z",
     "start_time": "2022-04-15T06:13:51.474548Z"
    }
   },
   "outputs": [],
   "source": [
    "#mak_preprocessed"
   ]
  },
  {
   "cell_type": "markdown",
   "id": "ba144813",
   "metadata": {},
   "source": [
    "#### Sentence Transformers"
   ]
  },
  {
   "cell_type": "code",
   "execution_count": null,
   "id": "87534f2a",
   "metadata": {
    "ExecuteTime": {
     "end_time": "2022-04-15T06:14:02.383511Z",
     "start_time": "2022-04-15T06:13:53.987458Z"
    }
   },
   "outputs": [],
   "source": [
    "model = SentenceTransformer('distiluse-base-multilingual-cased-v1')"
   ]
  },
  {
   "cell_type": "code",
   "execution_count": null,
   "id": "f8e6edaf",
   "metadata": {
    "ExecuteTime": {
     "end_time": "2022-04-15T06:14:07.442687Z",
     "start_time": "2022-04-15T06:14:07.229671Z"
    }
   },
   "outputs": [],
   "source": [
    "text_list = []\n",
    "for text in mak_preprocessed[\"pre_text\"]:\n",
    "    text_list.append(' '.join(text))"
   ]
  },
  {
   "cell_type": "code",
   "execution_count": null,
   "id": "9fbf8737",
   "metadata": {
    "ExecuteTime": {
     "end_time": "2022-04-15T06:27:37.338623Z",
     "start_time": "2022-04-15T06:15:06.325412Z"
    }
   },
   "outputs": [],
   "source": [
    "sentence_embeddings_mak = model.encode(text_list)\n",
    "sentence_embeddings_mak.shape"
   ]
  },
  {
   "cell_type": "code",
   "execution_count": null,
   "id": "e4a27157",
   "metadata": {
    "ExecuteTime": {
     "end_time": "2022-04-15T06:27:37.345654Z",
     "start_time": "2022-04-15T06:27:37.340733Z"
    }
   },
   "outputs": [],
   "source": [
    "sentence_embeddings_mak"
   ]
  },
  {
   "cell_type": "markdown",
   "id": "607cbc48",
   "metadata": {},
   "source": [
    "#### Save sentence embeddings"
   ]
  },
  {
   "cell_type": "code",
   "execution_count": null,
   "id": "3fb15587",
   "metadata": {
    "ExecuteTime": {
     "end_time": "2022-04-15T06:36:33.024596Z",
     "start_time": "2022-04-15T06:34:52.929685Z"
    }
   },
   "outputs": [],
   "source": [
    "# most precise\n",
    "np.savetxt('sentence_embeddings_mak.csv', sentence_embeddings_mak, delimiter=',')"
   ]
  },
  {
   "cell_type": "markdown",
   "id": "d6203514",
   "metadata": {},
   "source": [
    "####  Load sentence embeddings"
   ]
  },
  {
   "cell_type": "code",
   "execution_count": null,
   "id": "0293f34e",
   "metadata": {
    "ExecuteTime": {
     "end_time": "2022-04-12T08:17:07.425760Z",
     "start_time": "2022-04-12T08:16:46.134136Z"
    }
   },
   "outputs": [],
   "source": [
    "# most precise\n",
    "#sentence_embeddings_mak = np.loadtxt('sentence_embeddings_mak.csv', delimiter=',')"
   ]
  },
  {
   "cell_type": "markdown",
   "id": "00be0793",
   "metadata": {},
   "source": [
    "### Belvedere"
   ]
  },
  {
   "cell_type": "code",
   "execution_count": null,
   "id": "e4eaa324",
   "metadata": {
    "ExecuteTime": {
     "end_time": "2022-04-15T06:40:06.260110Z",
     "start_time": "2022-04-15T06:40:06.183942Z"
    }
   },
   "outputs": [],
   "source": [
    "bel = pd.read_csv(\"data/belvedere.csv\").reset_index()\n",
    "#bel"
   ]
  },
  {
   "cell_type": "code",
   "execution_count": null,
   "id": "77a87872",
   "metadata": {
    "ExecuteTime": {
     "end_time": "2022-04-15T06:41:10.583584Z",
     "start_time": "2022-04-15T06:41:10.577303Z"
    }
   },
   "outputs": [],
   "source": [
    "bel_filtered = bel[bel.columns[[0,1,2,3,4,11,12,14,16,22]]]"
   ]
  },
  {
   "cell_type": "code",
   "execution_count": null,
   "id": "be61139c",
   "metadata": {
    "ExecuteTime": {
     "end_time": "2022-04-15T06:41:49.026960Z",
     "start_time": "2022-04-15T06:41:48.475645Z"
    }
   },
   "outputs": [],
   "source": [
    "bel_filtered = bel_filtered.assign(full_text = bel_filtered[bel_filtered.columns[1:]].apply(lambda x: ' '.join(x.dropna().astype(str)),axis=1))"
   ]
  },
  {
   "cell_type": "code",
   "execution_count": null,
   "id": "138b8630",
   "metadata": {
    "ExecuteTime": {
     "end_time": "2022-04-15T06:41:49.895477Z",
     "start_time": "2022-04-15T06:41:49.891936Z"
    }
   },
   "outputs": [],
   "source": [
    "bel_filtered[\"full_text\"][0]"
   ]
  },
  {
   "cell_type": "code",
   "execution_count": null,
   "id": "36c2fa89",
   "metadata": {
    "ExecuteTime": {
     "end_time": "2022-04-15T06:42:00.375322Z",
     "start_time": "2022-04-15T06:41:59.590599Z"
    }
   },
   "outputs": [],
   "source": [
    "bel_preprocessed = preprocessing(bel_filtered)"
   ]
  },
  {
   "cell_type": "code",
   "execution_count": null,
   "id": "b5aa72a0",
   "metadata": {},
   "outputs": [],
   "source": []
  },
  {
   "cell_type": "code",
   "execution_count": null,
   "id": "866fbb67",
   "metadata": {},
   "outputs": [],
   "source": []
  },
  {
   "cell_type": "code",
   "execution_count": null,
   "id": "9b72518e",
   "metadata": {
    "ExecuteTime": {
     "end_time": "2022-04-15T06:44:33.321077Z",
     "start_time": "2022-04-15T06:44:24.965386Z"
    }
   },
   "outputs": [],
   "source": [
    "model = SentenceTransformer('distiluse-base-multilingual-cased-v1')"
   ]
  },
  {
   "cell_type": "code",
   "execution_count": null,
   "id": "fe23cceb",
   "metadata": {
    "ExecuteTime": {
     "end_time": "2022-04-15T06:44:33.330748Z",
     "start_time": "2022-04-15T06:44:33.322739Z"
    }
   },
   "outputs": [],
   "source": [
    "text_list = []\n",
    "for text in bel_preprocessed[\"pre_text\"]:\n",
    "    text_list.append(' '.join(text))"
   ]
  },
  {
   "cell_type": "code",
   "execution_count": null,
   "id": "363e75d1",
   "metadata": {
    "ExecuteTime": {
     "end_time": "2022-04-15T06:44:46.950361Z",
     "start_time": "2022-04-15T06:44:33.333560Z"
    }
   },
   "outputs": [],
   "source": [
    "sentence_embeddings_bel = model.encode(text_list)\n",
    "sentence_embeddings_bel.shape"
   ]
  },
  {
   "cell_type": "code",
   "execution_count": null,
   "id": "8c1fba65",
   "metadata": {
    "ExecuteTime": {
     "end_time": "2022-04-15T06:44:46.955456Z",
     "start_time": "2022-04-15T06:44:46.951872Z"
    }
   },
   "outputs": [],
   "source": [
    "sentence_embeddings_bel"
   ]
  },
  {
   "cell_type": "code",
   "execution_count": null,
   "id": "ae707078",
   "metadata": {
    "ExecuteTime": {
     "end_time": "2022-04-15T06:45:15.463905Z",
     "start_time": "2022-04-15T06:45:13.351775Z"
    }
   },
   "outputs": [],
   "source": [
    "np.savetxt('sentence_embeddings_bel.csv', sentence_embeddings_bel, delimiter=',')"
   ]
  },
  {
   "cell_type": "code",
   "execution_count": null,
   "id": "78ad5064",
   "metadata": {
    "ExecuteTime": {
     "end_time": "2022-04-15T07:04:25.027483Z",
     "start_time": "2022-04-15T07:04:25.020077Z"
    }
   },
   "outputs": [],
   "source": [
    "x = np.array([[1,2,3]])\n",
    "y = np.array([[2,3,4]])\n",
    "\n",
    "np.concatenate([x,y], axis=0)"
   ]
  },
  {
   "cell_type": "markdown",
   "id": "4c79831c",
   "metadata": {},
   "source": [
    "### Distance matrix experiments"
   ]
  },
  {
   "cell_type": "code",
   "execution_count": null,
   "id": "38ea4666",
   "metadata": {
    "ExecuteTime": {
     "end_time": "2022-04-20T07:33:55.352639Z",
     "start_time": "2022-04-20T07:33:55.347921Z"
    }
   },
   "outputs": [],
   "source": [
    "import sklearn\n",
    "import sklearn.neighbors as neighbors\n",
    "import scipy.spatial as spatial"
   ]
  },
  {
   "cell_type": "code",
   "execution_count": null,
   "id": "ca6ba6f7",
   "metadata": {
    "ExecuteTime": {
     "end_time": "2022-04-20T07:33:55.720434Z",
     "start_time": "2022-04-20T07:33:55.717178Z"
    }
   },
   "outputs": [],
   "source": [
    "sentence_embeddings.shape"
   ]
  },
  {
   "cell_type": "code",
   "execution_count": null,
   "id": "b215e4f8",
   "metadata": {
    "ExecuteTime": {
     "end_time": "2022-04-20T07:33:56.020001Z",
     "start_time": "2022-04-20T07:33:56.017127Z"
    }
   },
   "outputs": [],
   "source": [
    "x = sentence_embeddings[:30]\n",
    "print(x.shape)\n",
    "\n",
    "x_ids = list(range(30))\n",
    "print(x_ids)"
   ]
  },
  {
   "cell_type": "code",
   "execution_count": null,
   "id": "55ed656e",
   "metadata": {
    "ExecuteTime": {
     "end_time": "2022-04-20T07:33:57.399321Z",
     "start_time": "2022-04-20T07:33:56.486008Z"
    }
   },
   "outputs": [],
   "source": [
    "# standardize data\n",
    "stand_sentence_embeddings = (sentence_embeddings - np.mean(sentence_embeddings, axis=0)) / np.std(sentence_embeddings, axis=0)\n",
    "stand_pca = PCA(n_components=3)\n",
    "coordinates_3d = stand_pca.fit_transform(stand_sentence_embeddings)"
   ]
  },
  {
   "cell_type": "code",
   "execution_count": null,
   "id": "098396d1",
   "metadata": {
    "ExecuteTime": {
     "end_time": "2022-04-20T07:33:57.646738Z",
     "start_time": "2022-04-20T07:33:57.400663Z"
    }
   },
   "outputs": [],
   "source": [
    "triplet_dataframe = wm_filtered[[\"id\",\"classifications\", \"subjects\", \"full_text\"]]\n",
    "triplet_dataframe[\"title\"] = wm_filtered[\"title\"][:].apply(lambda x: x[:75] if len(x)>75 else x)\n",
    "triplet_dataframe[\"x\"] = coordinates_3d[:,0]\n",
    "triplet_dataframe[\"y\"] = coordinates_3d[:,1]\n",
    "triplet_dataframe[\"z\"] = coordinates_3d[:,2]\n",
    "triplet_dataframe.fillna('NaN', inplace=True)\n",
    "\n",
    "#triplet_dataframe"
   ]
  },
  {
   "cell_type": "markdown",
   "id": "ef99867a",
   "metadata": {},
   "source": [
    "#### sklearn"
   ]
  },
  {
   "cell_type": "code",
   "execution_count": null,
   "id": "470fef51",
   "metadata": {
    "ExecuteTime": {
     "end_time": "2022-04-20T07:33:58.901159Z",
     "start_time": "2022-04-20T07:33:58.898738Z"
    }
   },
   "outputs": [],
   "source": [
    "#euc = sklearn.metrics.pairwise_distances(x, sentence_embeddings, metric=\"euclidean\")\n",
    "#cos = sklearn.metrics.pairwise_distances(x, sentence_embeddings, metric=\"cosine\")\n",
    "#man = sklearn.metrics.pairwise_distances(x, sentence_embeddings, metric=\"manhattan\")"
   ]
  },
  {
   "cell_type": "code",
   "execution_count": null,
   "id": "906820d9",
   "metadata": {
    "ExecuteTime": {
     "end_time": "2022-04-20T07:33:59.142737Z",
     "start_time": "2022-04-20T07:33:59.125812Z"
    }
   },
   "outputs": [],
   "source": [
    "def calc_distances(query, data, metric, k):\n",
    "    \n",
    "    if query.shape[0] == 1:\n",
    "        # claculate distance of query to all data points in data\n",
    "        dists = sklearn.metrics.pairwise_distances(query, data, metric=metric)[0]\n",
    "        # zip ids to distances for sorting\n",
    "        zipped_dists = np.array(list(zip(range(len(dists)),dists)))\n",
    "        # sort according to distances\n",
    "        sorted_dists = np.array(sorted(zipped_dists, key  = lambda x: x[1]))\n",
    "\n",
    "        min_k_ids = sorted_dists[1:k+1, 0]\n",
    "        min_k_dists = sorted_dists[1:k+1, 1]\n",
    "\n",
    "        max_k_ids = sorted_dists[-k:, 0]\n",
    "        max_k_dists = sorted_dists[-k:, 1]\n",
    "\n",
    "        return min_k_ids, min_k_dists, max_k_ids, max_k_dists\n",
    "    \n",
    "    else:\n",
    "        # claculate distance of query to all data points in data\n",
    "        dists_matrix = sklearn.metrics.pairwise_distances(query, data, metric=metric)\n",
    "        #print(dists_matrix.shape)\n",
    "        \n",
    "        results = list()\n",
    "        for dists in dists_matrix:\n",
    "            # zip ids to distances for sorting\n",
    "            zipped_dists = np.array(list(zip(range(len(dists)),dists)))\n",
    "            # sort according to distances\n",
    "            sorted_dists = np.array(sorted(zipped_dists, key  = lambda x: x[1]))\n",
    "\n",
    "            min_k_ids = sorted_dists[1:k+1, 0]\n",
    "            min_k_dists = sorted_dists[1:k+1, 1]\n",
    "            \n",
    "            max_k_ids = sorted_dists[-k:, 0]\n",
    "            max_k_dists = sorted_dists[-k:, 1]\n",
    "\n",
    "            results.append((min_k_ids, min_k_dists, max_k_ids, max_k_dists))\n",
    "\n",
    "        return results"
   ]
  },
  {
   "cell_type": "code",
   "execution_count": null,
   "id": "1f0338e9",
   "metadata": {
    "ExecuteTime": {
     "end_time": "2022-04-20T08:01:32.822814Z",
     "start_time": "2022-04-20T08:01:32.819198Z"
    }
   },
   "outputs": [],
   "source": [
    "def create_triplets(query, query_ids, embeddings):\n",
    "    metric = \"cosine\"\n",
    "    k = 15\n",
    "    \n",
    "    neighborhoods = calc_distances(query, embeddings, metric, k)\n",
    "    \n",
    "    rng = np.random.default_rng()\n",
    "    res = list()\n",
    "    triplets = list()\n",
    "    \n",
    "    i = 0\n",
    "    for min_k_ids, min_k_dists, max_k_ids, max_k_dists in neighborhoods:\n",
    "        min_id = rng.integers(k)\n",
    "        max_id = rng.integers(k)\n",
    "\n",
    "        res.append((int(min_k_ids[min_id]), min_k_dists[min_id],\n",
    "                    int(max_k_ids[max_id]), max_k_dists[max_id]))\n",
    "        \n",
    "        triplets.append([query_ids[i], int(min_k_ids[min_id]), int(max_k_ids[max_id])])\n",
    "        \n",
    "        i += 1\n",
    "        \n",
    "    return neighborhoods, triplets"
   ]
  },
  {
   "cell_type": "code",
   "execution_count": null,
   "id": "bd007128",
   "metadata": {
    "ExecuteTime": {
     "end_time": "2022-04-20T08:01:36.841199Z",
     "start_time": "2022-04-20T08:01:33.449398Z"
    }
   },
   "outputs": [],
   "source": [
    "neighborhoods, triplets = create_triplets(x, x_ids, stand_sentence_embeddings)"
   ]
  },
  {
   "cell_type": "code",
   "execution_count": null,
   "id": "204cb348",
   "metadata": {
    "ExecuteTime": {
     "end_time": "2022-04-20T08:01:37.874188Z",
     "start_time": "2022-04-20T08:01:37.869616Z"
    },
    "code_folding": []
   },
   "outputs": [],
   "source": [
    "def display_one_triplet(triplets, dataframe):\n",
    "    \n",
    "    length = len(triplets)\n",
    "    \n",
    "    rng = np.random.default_rng()\n",
    "    idx = rng.integers(length)\n",
    "    \n",
    "    sample_id, similar_id, dissimilar_id = triplets[idx]\n",
    "    \n",
    "    sample_data = dataframe.loc[sample_id]\n",
    "    similar_data = dataframe.loc[similar_id]\n",
    "    dissimilar_data = dataframe.loc[dissimilar_id]\n",
    "        \n",
    "    sample_text = sample_data[\"full_text\"]\n",
    "    similar_text = similar_data[\"full_text\"]\n",
    "    disimilar_text = dissimilar_data[\"full_text\"]\n",
    "    \n",
    "    triplet_df = dataframe.loc[triplets[idx]]\n",
    "    triplet_df = triplet_df.assign(label = [\"sample\", \"similar\", \"disimilar\"])\n",
    "    \n",
    "    print(\"Sample:\\n\", sample_text)\n",
    "    print()\n",
    "    print(\"Similar:\\n\", similar_text)\n",
    "    print()\n",
    "    print(\"Dissimilar:\\n\", disimilar_text)\n",
    "    print()\n",
    "    \n",
    "    fig = px.scatter_3d(triplet_df, x='x', y='y', z='z', \n",
    "                    color='label', hover_name=\"title\", hover_data=[\"id\", \"classifications\"],\n",
    "                    width=1100, height=800,# adjust height and width\n",
    "                    title=\"One triplet\")\n",
    "\n",
    "    fig.update_layout(legend = dict(\n",
    "                            font = dict(size = 10)\n",
    "                            ), \n",
    "\n",
    "                      hoverlabel=dict(\n",
    "                            font_size=9,\n",
    "                            )\n",
    "                    )\n",
    "\n",
    "    fig.update_traces(marker_size = 3)\n",
    "\n",
    "    fig.show()"
   ]
  },
  {
   "cell_type": "code",
   "execution_count": null,
   "id": "1452ccb6",
   "metadata": {
    "ExecuteTime": {
     "end_time": "2022-04-20T08:01:43.768835Z",
     "start_time": "2022-04-20T08:01:43.573329Z"
    },
    "code_folding": []
   },
   "outputs": [],
   "source": [
    "def display_all_triplets(triplets, dataframe):\n",
    "    \n",
    "    triplets_df = pd.DataFrame()\n",
    "    i = 0\n",
    "    for triplet in triplets:\n",
    "        \n",
    "        triplet_df = dataframe.loc[triplet]\n",
    "        triplet_df = triplet_df.assign(label = [\"sample\", \"similar\", \"disimilar\"])\n",
    "        triplet_df = triplet_df.assign(sample_id = str(i))\n",
    "        \n",
    "        triplets_df = pd.concat([triplets_df, triplet_df])\n",
    "        \n",
    "        i += 1\n",
    "            \n",
    "    triplets_df.reset_index(drop=True, inplace=True)\n",
    "    \n",
    "    \n",
    "    fig = px.scatter_3d(triplets_df, x='x', y='y', z='z', \n",
    "                    color='sample_id', hover_name=\"title\", hover_data=[\"id\", \"classifications\", \"label\"],\n",
    "                    width=1100, height=800,# adjust height and width\n",
    "                    title=\"All triplets\")\n",
    "\n",
    "    fig.update_layout(legend = dict(\n",
    "                            font = dict(size = 10)\n",
    "                            ), \n",
    "\n",
    "                      hoverlabel=dict(\n",
    "                            font_size=9,\n",
    "                            )\n",
    "                    )\n",
    "\n",
    "    fig.update_traces(marker_size = 3)\n",
    "\n",
    "    fig.show()\n",
    "    \n",
    "    \n",
    "display_all_triplets(triplets, triplet_dataframe)"
   ]
  },
  {
   "cell_type": "code",
   "execution_count": null,
   "id": "215bb87d",
   "metadata": {
    "ExecuteTime": {
     "end_time": "2022-04-20T08:23:49.848869Z",
     "start_time": "2022-04-20T08:23:49.783487Z"
    }
   },
   "outputs": [],
   "source": [
    "def display_all_dis_similar(query_ids, neighborhoods, dataframe):\n",
    "    \n",
    "    idx = query_ids[0]\n",
    "    neighborhood = neighborhoods[idx]\n",
    "    \n",
    "    sim_ids = neighborhood[0]\n",
    "    dissim_ids = neighborhood[2]\n",
    "    \n",
    "    sample_df = dataframe.loc[idx].to_frame().transpose()\n",
    "    sample_df = sample_df.assign(label = [\"sample\"])\n",
    "    \n",
    "    sim_df = dataframe.loc[sim_ids]\n",
    "    sim_df = sim_df.assign(label = [\"similar\"]*len(sim_ids))\n",
    "    \n",
    "    dissim_df = dataframe.loc[dissim_ids]\n",
    "    dissim_df = dissim_df.assign(label = [\"disimilar\"]*len(dissim_ids))\n",
    "    \n",
    "    df = pd.concat([sample_df, sim_df, dissim_df])\n",
    "    df.reset_index(drop=True, inplace=True)\n",
    "    print(df)\n",
    "    \n",
    "    fig = px.scatter_3d(df, x='x', y='y', z='z', \n",
    "                    color='label', hover_name=\"title\", hover_data=[\"id\", \"classifications\"],\n",
    "                    width=1100, height=800,# adjust height and width\n",
    "                    title=\"All similar and dissimlar samples for one sample\")\n",
    "\n",
    "    fig.update_layout(legend = dict(\n",
    "                            font = dict(size = 10)\n",
    "                            ), \n",
    "\n",
    "                      hoverlabel=dict(\n",
    "                            font_size=9,\n",
    "                            )\n",
    "                    )\n",
    "\n",
    "    fig.update_traces(marker_size = 3)\n",
    "\n",
    "    fig.show()\n",
    "    \n",
    "plot_neighborhoods(x_ids, neighborhoods, triplet_dataframe)    "
   ]
  },
  {
   "cell_type": "code",
   "execution_count": null,
   "id": "0169b734",
   "metadata": {},
   "outputs": [],
   "source": [
    "length = 50\n",
    "triplet_dataframe = wm_filtered[:][[\"id\",\"classifications\", \"subjects\"]]\n",
    "triplet_dataframe[\"title\"] = wm_filtered[\"title\"][:].apply(lambda x: x[:length] if len(x)>length else x)\n",
    "triplet_dataframe[\"x\"] = embeddings_pca[:,0]\n",
    "triplet_dataframe[\"y\"] = embeddings_pca[:,1]\n",
    "triplet_dataframe[\"z\"] = embeddings_pca[:,2]\n",
    "\n",
    "df_k_means.fillna('NaN', inplace=True)\n",
    "df_k_means.head()\n",
    "\n",
    "display_one_triplet(triplets, wm_filtered)"
   ]
  },
  {
   "cell_type": "code",
   "execution_count": null,
   "id": "cc52238c",
   "metadata": {
    "ExecuteTime": {
     "end_time": "2022-04-20T08:44:52.747096Z",
     "start_time": "2022-04-20T08:44:52.731721Z"
    }
   },
   "outputs": [],
   "source": [
    "wm_data.loc[[34575, 34078]]"
   ]
  },
  {
   "cell_type": "code",
   "execution_count": null,
   "id": "36afc606",
   "metadata": {
    "ExecuteTime": {
     "end_time": "2022-04-19T06:49:11.894340Z",
     "start_time": "2022-04-19T06:49:11.891311Z"
    }
   },
   "outputs": [],
   "source": [
    "sklearn_kdTree = neighbors.KDTree(X)#, metric=\"\")"
   ]
  },
  {
   "cell_type": "code",
   "execution_count": null,
   "id": "e5d719bc",
   "metadata": {
    "ExecuteTime": {
     "end_time": "2022-04-19T06:49:17.499005Z",
     "start_time": "2022-04-19T06:49:17.495480Z"
    }
   },
   "outputs": [],
   "source": [
    "sklearn_kdTree.valid_metrics"
   ]
  },
  {
   "cell_type": "markdown",
   "id": "fe253430",
   "metadata": {},
   "source": [
    "### Combine datasets\n"
   ]
  },
  {
   "cell_type": "code",
   "execution_count": 33,
   "id": "ac76c51d",
   "metadata": {
    "ExecuteTime": {
     "end_time": "2022-04-26T11:38:51.117145Z",
     "start_time": "2022-04-26T11:38:47.944587Z"
    }
   },
   "outputs": [
    {
     "name": "stderr",
     "output_type": "stream",
     "text": [
      "/tmp/ipykernel_28110/3439905002.py:4: DtypeWarning: Columns (9,10) have mixed types. Specify dtype option on import or set low_memory=False.\n",
      "  mak_1 = pd.read_csv(\"data/mak_1.csv\")\n",
      "/tmp/ipykernel_28110/3439905002.py:6: DtypeWarning: Columns (12,13) have mixed types. Specify dtype option on import or set low_memory=False.\n",
      "  mak_3 = pd.read_csv(\"data/mak_3.csv\")\n"
     ]
    }
   ],
   "source": [
    "# wien museum\n",
    "wm_data = pd.read_csv(\"data/wien_museum.csv\")\n",
    "# mak\n",
    "mak_1 = pd.read_csv(\"data/mak_1.csv\")\n",
    "mak_2 = pd.read_csv(\"data/mak_2.csv\")\n",
    "mak_3 = pd.read_csv(\"data/mak_3.csv\")\n",
    "mak = pd.concat([mak_1, mak_2, mak_3])\n",
    "# belvedere\n",
    "bel = pd.read_csv(\"data/belvedere.csv\").reset_index()\n",
    "\n",
    "## extract interesting columns\n",
    "wm_filtered = wm_data[wm_data.columns[[0,3,4,5,6,7,8]]]\n",
    "mak_filtered = mak[mak.columns[[0,2,4,5,15,16,17,21,28,29,31,34,36,38]]]\n",
    "mak_filtered.reset_index(drop=True, inplace=True)\n",
    "bel_filtered = bel[bel.columns[[0,10,1,2,3,4,11,12,14,16,21,22]]]"
   ]
  },
  {
   "cell_type": "code",
   "execution_count": 34,
   "id": "00c30417",
   "metadata": {
    "ExecuteTime": {
     "end_time": "2022-04-26T11:39:25.282121Z",
     "start_time": "2022-04-26T11:38:51.723214Z"
    }
   },
   "outputs": [],
   "source": [
    "# create one column that contains all text data\n",
    "wm_filtered = wm_filtered.assign(full_text = wm_filtered[wm_filtered.columns[1:]].apply(lambda x: ' '.join(x.dropna().astype(str)),axis=1))\n",
    "mak_filtered = mak_filtered.assign(full_text = mak_filtered[mak_filtered.columns[1:]].apply(lambda x: ' '.join(x.dropna().astype(str)),axis=1))\n",
    "bel_filtered = bel_filtered.assign(full_text = bel_filtered[bel_filtered.columns[2:]].apply(lambda x: ' '.join(x.dropna().astype(str)),axis=1))\n",
    "#print(\"Filtering done\")"
   ]
  },
  {
   "cell_type": "code",
   "execution_count": null,
   "id": "266f71e5",
   "metadata": {
    "ExecuteTime": {
     "end_time": "2022-04-26T11:24:27.632224Z",
     "start_time": "2022-04-26T11:24:27.626047Z"
    }
   },
   "outputs": [],
   "source": []
  },
  {
   "cell_type": "code",
   "execution_count": 35,
   "id": "7c979789",
   "metadata": {
    "ExecuteTime": {
     "end_time": "2022-04-26T11:39:25.393436Z",
     "start_time": "2022-04-26T11:39:25.283619Z"
    }
   },
   "outputs": [
    {
     "data": {
      "text/html": [
       "<div>\n",
       "<style scoped>\n",
       "    .dataframe tbody tr th:only-of-type {\n",
       "        vertical-align: middle;\n",
       "    }\n",
       "\n",
       "    .dataframe tbody tr th {\n",
       "        vertical-align: top;\n",
       "    }\n",
       "\n",
       "    .dataframe thead th {\n",
       "        text-align: right;\n",
       "    }\n",
       "</style>\n",
       "<table border=\"1\" class=\"dataframe\">\n",
       "  <thead>\n",
       "    <tr style=\"text-align: right;\">\n",
       "      <th></th>\n",
       "      <th>id</th>\n",
       "      <th>title</th>\n",
       "      <th>artistsProducers</th>\n",
       "      <th>classifications</th>\n",
       "      <th>dates</th>\n",
       "      <th>districts</th>\n",
       "      <th>subjects</th>\n",
       "      <th>full_text</th>\n",
       "      <th>id_column_name</th>\n",
       "      <th>dataset_name</th>\n",
       "      <th>museum</th>\n",
       "      <th>url</th>\n",
       "      <th>media_url</th>\n",
       "    </tr>\n",
       "  </thead>\n",
       "  <tbody>\n",
       "    <tr>\n",
       "      <th>0</th>\n",
       "      <td>1902639</td>\n",
       "      <td>Handbeschriebener Zettel mit Angebot zur Nachb...</td>\n",
       "      <td>NaN</td>\n",
       "      <td>Grafik- und Fotosammlung | Hand- und Druckschr...</td>\n",
       "      <td>2020</td>\n",
       "      <td>NaN</td>\n",
       "      <td>Handschrift, handgeschriebener Text</td>\n",
       "      <td>Handbeschriebener Zettel mit Angebot zur Nachb...</td>\n",
       "      <td>id</td>\n",
       "      <td>wm</td>\n",
       "      <td>wm</td>\n",
       "      <td>https://sammlung.wienmuseum.at/objekt/1902639/</td>\n",
       "      <td>https://sammlung.wienmuseum.at/openapi-images/...</td>\n",
       "    </tr>\n",
       "    <tr>\n",
       "      <th>1</th>\n",
       "      <td>1902640</td>\n",
       "      <td>Zetteldokumentation zu den Corona-Balkonkonzer...</td>\n",
       "      <td>NaN</td>\n",
       "      <td>Gebrauchsgegenstände | Erinnerungsgegenstände ...</td>\n",
       "      <td>2020</td>\n",
       "      <td>17. Bezirk: Hernals</td>\n",
       "      <td>Handschrift, handgeschriebener Text</td>\n",
       "      <td>Zetteldokumentation zu den Corona-Balkonkonzer...</td>\n",
       "      <td>id</td>\n",
       "      <td>wm</td>\n",
       "      <td>wm</td>\n",
       "      <td>https://sammlung.wienmuseum.at/objekt/1902640/</td>\n",
       "      <td>https://sammlung.wienmuseum.at/openapi-images/...</td>\n",
       "    </tr>\n",
       "    <tr>\n",
       "      <th>2</th>\n",
       "      <td>1902641</td>\n",
       "      <td>Zetteldokumentation zu den Corona-Balkonkonzer...</td>\n",
       "      <td>NaN</td>\n",
       "      <td>Gebrauchsgegenstände | Erinnerungsgegenstände ...</td>\n",
       "      <td>2020</td>\n",
       "      <td>17. Bezirk: Hernals</td>\n",
       "      <td>Handschrift, handgeschriebener Text</td>\n",
       "      <td>Zetteldokumentation zu den Corona-Balkonkonzer...</td>\n",
       "      <td>id</td>\n",
       "      <td>wm</td>\n",
       "      <td>wm</td>\n",
       "      <td>https://sammlung.wienmuseum.at/objekt/1902641/</td>\n",
       "      <td>https://sammlung.wienmuseum.at/openapi-images/...</td>\n",
       "    </tr>\n",
       "    <tr>\n",
       "      <th>3</th>\n",
       "      <td>1902642</td>\n",
       "      <td>Zetteldokumentation zu den Corona-Balkonkonzer...</td>\n",
       "      <td>NaN</td>\n",
       "      <td>Grafik- und Fotosammlung | Gebrauchsgrafik</td>\n",
       "      <td>2020</td>\n",
       "      <td>NaN</td>\n",
       "      <td>NaN</td>\n",
       "      <td>Zetteldokumentation zu den Corona-Balkonkonzer...</td>\n",
       "      <td>id</td>\n",
       "      <td>wm</td>\n",
       "      <td>wm</td>\n",
       "      <td>https://sammlung.wienmuseum.at/objekt/1902642/</td>\n",
       "      <td>https://sammlung.wienmuseum.at/openapi-images/...</td>\n",
       "    </tr>\n",
       "    <tr>\n",
       "      <th>4</th>\n",
       "      <td>1902643</td>\n",
       "      <td>Zetteldokumentation zu den Corona-Balkonkonzer...</td>\n",
       "      <td>NaN</td>\n",
       "      <td>Gebrauchsgegenstände | Erinnerungsgegenstände ...</td>\n",
       "      <td>2020</td>\n",
       "      <td>17. Bezirk: Hernals</td>\n",
       "      <td>Handschrift, handgeschriebener Text</td>\n",
       "      <td>Zetteldokumentation zu den Corona-Balkonkonzer...</td>\n",
       "      <td>id</td>\n",
       "      <td>wm</td>\n",
       "      <td>wm</td>\n",
       "      <td>https://sammlung.wienmuseum.at/objekt/1902643/</td>\n",
       "      <td>https://sammlung.wienmuseum.at/openapi-images/...</td>\n",
       "    </tr>\n",
       "  </tbody>\n",
       "</table>\n",
       "</div>"
      ],
      "text/plain": [
       "        id                                              title  \\\n",
       "0  1902639  Handbeschriebener Zettel mit Angebot zur Nachb...   \n",
       "1  1902640  Zetteldokumentation zu den Corona-Balkonkonzer...   \n",
       "2  1902641  Zetteldokumentation zu den Corona-Balkonkonzer...   \n",
       "3  1902642  Zetteldokumentation zu den Corona-Balkonkonzer...   \n",
       "4  1902643  Zetteldokumentation zu den Corona-Balkonkonzer...   \n",
       "\n",
       "  artistsProducers                                    classifications dates  \\\n",
       "0              NaN  Grafik- und Fotosammlung | Hand- und Druckschr...  2020   \n",
       "1              NaN  Gebrauchsgegenstände | Erinnerungsgegenstände ...  2020   \n",
       "2              NaN  Gebrauchsgegenstände | Erinnerungsgegenstände ...  2020   \n",
       "3              NaN         Grafik- und Fotosammlung | Gebrauchsgrafik  2020   \n",
       "4              NaN  Gebrauchsgegenstände | Erinnerungsgegenstände ...  2020   \n",
       "\n",
       "             districts                             subjects  \\\n",
       "0                  NaN  Handschrift, handgeschriebener Text   \n",
       "1  17. Bezirk: Hernals  Handschrift, handgeschriebener Text   \n",
       "2  17. Bezirk: Hernals  Handschrift, handgeschriebener Text   \n",
       "3                  NaN                                  NaN   \n",
       "4  17. Bezirk: Hernals  Handschrift, handgeschriebener Text   \n",
       "\n",
       "                                           full_text id_column_name  \\\n",
       "0  Handbeschriebener Zettel mit Angebot zur Nachb...             id   \n",
       "1  Zetteldokumentation zu den Corona-Balkonkonzer...             id   \n",
       "2  Zetteldokumentation zu den Corona-Balkonkonzer...             id   \n",
       "3  Zetteldokumentation zu den Corona-Balkonkonzer...             id   \n",
       "4  Zetteldokumentation zu den Corona-Balkonkonzer...             id   \n",
       "\n",
       "  dataset_name museum                                             url  \\\n",
       "0           wm     wm  https://sammlung.wienmuseum.at/objekt/1902639/   \n",
       "1           wm     wm  https://sammlung.wienmuseum.at/objekt/1902640/   \n",
       "2           wm     wm  https://sammlung.wienmuseum.at/objekt/1902641/   \n",
       "3           wm     wm  https://sammlung.wienmuseum.at/objekt/1902642/   \n",
       "4           wm     wm  https://sammlung.wienmuseum.at/objekt/1902643/   \n",
       "\n",
       "                                           media_url  \n",
       "0  https://sammlung.wienmuseum.at/openapi-images/...  \n",
       "1  https://sammlung.wienmuseum.at/openapi-images/...  \n",
       "2  https://sammlung.wienmuseum.at/openapi-images/...  \n",
       "3  https://sammlung.wienmuseum.at/openapi-images/...  \n",
       "4  https://sammlung.wienmuseum.at/openapi-images/...  "
      ]
     },
     "execution_count": 35,
     "metadata": {},
     "output_type": "execute_result"
    }
   ],
   "source": [
    "wm_filtered = wm_filtered.assign(id_column_name = \"id\")\n",
    "wm_filtered = wm_filtered.assign(museum = \"wm\")\n",
    "wm_filtered = wm_filtered.assign(url=wm_data[\"url\"])\n",
    "wm_filtered = wm_filtered.assign(media_url=wm_data[\"multimedia_default\"])\n",
    "wm_to_combine = wm_filtered[[\"id\",\"id_column_name\", \"title\", \"museum\" ]]\n",
    "#wm_to_combine.head()\n",
    "\n",
    "wm_filtered.head()"
   ]
  },
  {
   "cell_type": "code",
   "execution_count": 44,
   "id": "8a941bbb",
   "metadata": {
    "ExecuteTime": {
     "end_time": "2022-04-26T11:41:35.645632Z",
     "start_time": "2022-04-26T11:41:35.634461Z"
    }
   },
   "outputs": [
    {
     "data": {
      "text/html": [
       "<div>\n",
       "<style scoped>\n",
       "    .dataframe tbody tr th:only-of-type {\n",
       "        vertical-align: middle;\n",
       "    }\n",
       "\n",
       "    .dataframe tbody tr th {\n",
       "        vertical-align: top;\n",
       "    }\n",
       "\n",
       "    .dataframe thead th {\n",
       "        text-align: right;\n",
       "    }\n",
       "</style>\n",
       "<table border=\"1\" class=\"dataframe\">\n",
       "  <thead>\n",
       "    <tr style=\"text-align: right;\">\n",
       "      <th></th>\n",
       "      <th>museum</th>\n",
       "      <th>id</th>\n",
       "      <th>url</th>\n",
       "      <th>media_url</th>\n",
       "    </tr>\n",
       "  </thead>\n",
       "  <tbody>\n",
       "    <tr>\n",
       "      <th>0</th>\n",
       "      <td>wm</td>\n",
       "      <td>1902639</td>\n",
       "      <td>https://sammlung.wienmuseum.at/objekt/1902639/</td>\n",
       "      <td>https://sammlung.wienmuseum.at/openapi-images/...</td>\n",
       "    </tr>\n",
       "    <tr>\n",
       "      <th>1</th>\n",
       "      <td>wm</td>\n",
       "      <td>1902640</td>\n",
       "      <td>https://sammlung.wienmuseum.at/objekt/1902640/</td>\n",
       "      <td>https://sammlung.wienmuseum.at/openapi-images/...</td>\n",
       "    </tr>\n",
       "    <tr>\n",
       "      <th>2</th>\n",
       "      <td>wm</td>\n",
       "      <td>1902641</td>\n",
       "      <td>https://sammlung.wienmuseum.at/objekt/1902641/</td>\n",
       "      <td>https://sammlung.wienmuseum.at/openapi-images/...</td>\n",
       "    </tr>\n",
       "    <tr>\n",
       "      <th>3</th>\n",
       "      <td>wm</td>\n",
       "      <td>1902642</td>\n",
       "      <td>https://sammlung.wienmuseum.at/objekt/1902642/</td>\n",
       "      <td>https://sammlung.wienmuseum.at/openapi-images/...</td>\n",
       "    </tr>\n",
       "    <tr>\n",
       "      <th>4</th>\n",
       "      <td>wm</td>\n",
       "      <td>1902643</td>\n",
       "      <td>https://sammlung.wienmuseum.at/objekt/1902643/</td>\n",
       "      <td>https://sammlung.wienmuseum.at/openapi-images/...</td>\n",
       "    </tr>\n",
       "    <tr>\n",
       "      <th>...</th>\n",
       "      <td>...</td>\n",
       "      <td>...</td>\n",
       "      <td>...</td>\n",
       "      <td>...</td>\n",
       "    </tr>\n",
       "    <tr>\n",
       "      <th>62586</th>\n",
       "      <td>wm</td>\n",
       "      <td>1034409</td>\n",
       "      <td>https://sammlung.wienmuseum.at/objekt/1034409/</td>\n",
       "      <td>https://sammlung.wienmuseum.at/openapi-images/...</td>\n",
       "    </tr>\n",
       "    <tr>\n",
       "      <th>62587</th>\n",
       "      <td>wm</td>\n",
       "      <td>1033920</td>\n",
       "      <td>https://sammlung.wienmuseum.at/objekt/1033920/</td>\n",
       "      <td>https://sammlung.wienmuseum.at/openapi-images/...</td>\n",
       "    </tr>\n",
       "    <tr>\n",
       "      <th>62588</th>\n",
       "      <td>wm</td>\n",
       "      <td>1033912</td>\n",
       "      <td>https://sammlung.wienmuseum.at/objekt/1033912/</td>\n",
       "      <td>https://sammlung.wienmuseum.at/openapi-images/...</td>\n",
       "    </tr>\n",
       "    <tr>\n",
       "      <th>62589</th>\n",
       "      <td>wm</td>\n",
       "      <td>910481</td>\n",
       "      <td>https://sammlung.wienmuseum.at/objekt/910481/</td>\n",
       "      <td>https://sammlung.wienmuseum.at/openapi-images/...</td>\n",
       "    </tr>\n",
       "    <tr>\n",
       "      <th>62590</th>\n",
       "      <td>wm</td>\n",
       "      <td>1258573</td>\n",
       "      <td>https://sammlung.wienmuseum.at/objekt/1258573/</td>\n",
       "      <td>https://sammlung.wienmuseum.at/openapi-images/...</td>\n",
       "    </tr>\n",
       "  </tbody>\n",
       "</table>\n",
       "<p>62591 rows × 4 columns</p>\n",
       "</div>"
      ],
      "text/plain": [
       "      museum       id                                             url  \\\n",
       "0         wm  1902639  https://sammlung.wienmuseum.at/objekt/1902639/   \n",
       "1         wm  1902640  https://sammlung.wienmuseum.at/objekt/1902640/   \n",
       "2         wm  1902641  https://sammlung.wienmuseum.at/objekt/1902641/   \n",
       "3         wm  1902642  https://sammlung.wienmuseum.at/objekt/1902642/   \n",
       "4         wm  1902643  https://sammlung.wienmuseum.at/objekt/1902643/   \n",
       "...      ...      ...                                             ...   \n",
       "62586     wm  1034409  https://sammlung.wienmuseum.at/objekt/1034409/   \n",
       "62587     wm  1033920  https://sammlung.wienmuseum.at/objekt/1033920/   \n",
       "62588     wm  1033912  https://sammlung.wienmuseum.at/objekt/1033912/   \n",
       "62589     wm   910481   https://sammlung.wienmuseum.at/objekt/910481/   \n",
       "62590     wm  1258573  https://sammlung.wienmuseum.at/objekt/1258573/   \n",
       "\n",
       "                                               media_url  \n",
       "0      https://sammlung.wienmuseum.at/openapi-images/...  \n",
       "1      https://sammlung.wienmuseum.at/openapi-images/...  \n",
       "2      https://sammlung.wienmuseum.at/openapi-images/...  \n",
       "3      https://sammlung.wienmuseum.at/openapi-images/...  \n",
       "4      https://sammlung.wienmuseum.at/openapi-images/...  \n",
       "...                                                  ...  \n",
       "62586  https://sammlung.wienmuseum.at/openapi-images/...  \n",
       "62587  https://sammlung.wienmuseum.at/openapi-images/...  \n",
       "62588  https://sammlung.wienmuseum.at/openapi-images/...  \n",
       "62589  https://sammlung.wienmuseum.at/openapi-images/...  \n",
       "62590  https://sammlung.wienmuseum.at/openapi-images/...  \n",
       "\n",
       "[62591 rows x 4 columns]"
      ]
     },
     "execution_count": 44,
     "metadata": {},
     "output_type": "execute_result"
    }
   ],
   "source": [
    "wm_for_dataset = wm_filtered[[\"museum\", \"id\", \"url\", \"media_url\"]]\n",
    "wm_for_dataset"
   ]
  },
  {
   "cell_type": "code",
   "execution_count": 37,
   "id": "84d143f8",
   "metadata": {
    "ExecuteTime": {
     "end_time": "2022-04-26T11:39:26.035350Z",
     "start_time": "2022-04-26T11:39:25.403669Z"
    }
   },
   "outputs": [],
   "source": [
    "mak_filtered = mak_filtered.assign(id_column_name = \"priref\")\n",
    "mak_filtered = mak_filtered.assign(dataset_name = \"mak\")\n",
    "mak_filtered = mak_filtered.assign(id = mak_filtered[\"priref\"])\n",
    "\n",
    "mak_filtered = mak_filtered.assign(museum = \"mak\")\n",
    "mak_filtered = mak_filtered.assign(url=mak_filtered[\"priref\"].apply(lambda x: f\"https://sammlung.mak.at/sammlung_online?id=collect-{x}\"))\n",
    "#mak_filtered = mak_filtered.assign(media_url=wm_data[\"multimedia_default\"])\n",
    "\n",
    "mak_to_combine = mak_filtered[[\"id\",\"id_column_name\", \"title\", \"dataset_name\" ]]\n",
    "#mak_to_combine.head()"
   ]
  },
  {
   "cell_type": "code",
   "execution_count": 38,
   "id": "6af7c70e",
   "metadata": {
    "ExecuteTime": {
     "end_time": "2022-04-26T11:39:26.049683Z",
     "start_time": "2022-04-26T11:39:26.036467Z"
    }
   },
   "outputs": [
    {
     "data": {
      "text/html": [
       "<div>\n",
       "<style scoped>\n",
       "    .dataframe tbody tr th:only-of-type {\n",
       "        vertical-align: middle;\n",
       "    }\n",
       "\n",
       "    .dataframe tbody tr th {\n",
       "        vertical-align: top;\n",
       "    }\n",
       "\n",
       "    .dataframe thead th {\n",
       "        text-align: right;\n",
       "    }\n",
       "</style>\n",
       "<table border=\"1\" class=\"dataframe\">\n",
       "  <thead>\n",
       "    <tr style=\"text-align: right;\">\n",
       "      <th></th>\n",
       "      <th>museum</th>\n",
       "      <th>id</th>\n",
       "      <th>url</th>\n",
       "    </tr>\n",
       "  </thead>\n",
       "  <tbody>\n",
       "    <tr>\n",
       "      <th>0</th>\n",
       "      <td>mak</td>\n",
       "      <td>10</td>\n",
       "      <td>https://sammlung.mak.at/sammlung_online?id=col...</td>\n",
       "    </tr>\n",
       "    <tr>\n",
       "      <th>1</th>\n",
       "      <td>mak</td>\n",
       "      <td>100</td>\n",
       "      <td>https://sammlung.mak.at/sammlung_online?id=col...</td>\n",
       "    </tr>\n",
       "    <tr>\n",
       "      <th>2</th>\n",
       "      <td>mak</td>\n",
       "      <td>1000</td>\n",
       "      <td>https://sammlung.mak.at/sammlung_online?id=col...</td>\n",
       "    </tr>\n",
       "    <tr>\n",
       "      <th>3</th>\n",
       "      <td>mak</td>\n",
       "      <td>10000</td>\n",
       "      <td>https://sammlung.mak.at/sammlung_online?id=col...</td>\n",
       "    </tr>\n",
       "    <tr>\n",
       "      <th>4</th>\n",
       "      <td>mak</td>\n",
       "      <td>10001</td>\n",
       "      <td>https://sammlung.mak.at/sammlung_online?id=col...</td>\n",
       "    </tr>\n",
       "    <tr>\n",
       "      <th>...</th>\n",
       "      <td>...</td>\n",
       "      <td>...</td>\n",
       "      <td>...</td>\n",
       "    </tr>\n",
       "    <tr>\n",
       "      <th>259593</th>\n",
       "      <td>mak</td>\n",
       "      <td>99960</td>\n",
       "      <td>https://sammlung.mak.at/sammlung_online?id=col...</td>\n",
       "    </tr>\n",
       "    <tr>\n",
       "      <th>259594</th>\n",
       "      <td>mak</td>\n",
       "      <td>9997</td>\n",
       "      <td>https://sammlung.mak.at/sammlung_online?id=col...</td>\n",
       "    </tr>\n",
       "    <tr>\n",
       "      <th>259595</th>\n",
       "      <td>mak</td>\n",
       "      <td>9998</td>\n",
       "      <td>https://sammlung.mak.at/sammlung_online?id=col...</td>\n",
       "    </tr>\n",
       "    <tr>\n",
       "      <th>259596</th>\n",
       "      <td>mak</td>\n",
       "      <td>9999</td>\n",
       "      <td>https://sammlung.mak.at/sammlung_online?id=col...</td>\n",
       "    </tr>\n",
       "    <tr>\n",
       "      <th>259597</th>\n",
       "      <td>mak</td>\n",
       "      <td>99990</td>\n",
       "      <td>https://sammlung.mak.at/sammlung_online?id=col...</td>\n",
       "    </tr>\n",
       "  </tbody>\n",
       "</table>\n",
       "<p>259598 rows × 3 columns</p>\n",
       "</div>"
      ],
      "text/plain": [
       "       museum     id                                                url\n",
       "0         mak     10  https://sammlung.mak.at/sammlung_online?id=col...\n",
       "1         mak    100  https://sammlung.mak.at/sammlung_online?id=col...\n",
       "2         mak   1000  https://sammlung.mak.at/sammlung_online?id=col...\n",
       "3         mak  10000  https://sammlung.mak.at/sammlung_online?id=col...\n",
       "4         mak  10001  https://sammlung.mak.at/sammlung_online?id=col...\n",
       "...       ...    ...                                                ...\n",
       "259593    mak  99960  https://sammlung.mak.at/sammlung_online?id=col...\n",
       "259594    mak   9997  https://sammlung.mak.at/sammlung_online?id=col...\n",
       "259595    mak   9998  https://sammlung.mak.at/sammlung_online?id=col...\n",
       "259596    mak   9999  https://sammlung.mak.at/sammlung_online?id=col...\n",
       "259597    mak  99990  https://sammlung.mak.at/sammlung_online?id=col...\n",
       "\n",
       "[259598 rows x 3 columns]"
      ]
     },
     "execution_count": 38,
     "metadata": {},
     "output_type": "execute_result"
    }
   ],
   "source": [
    "mak_for_dataset = mak_filtered[[\"museum\", \"id\", \"url\"]]\n",
    "mak_for_dataset"
   ]
  },
  {
   "cell_type": "code",
   "execution_count": 41,
   "id": "e0e6a157",
   "metadata": {
    "ExecuteTime": {
     "end_time": "2022-04-26T11:40:19.563788Z",
     "start_time": "2022-04-26T11:40:19.540057Z"
    }
   },
   "outputs": [],
   "source": [
    "bel_filtered = bel_filtered.assign(id_column_name = \"Identifier\")\n",
    "bel_filtered = bel_filtered.assign(dataset_name = \"bel\")\n",
    "bel_filtered = bel_filtered.assign(id = bel_filtered[\"Identifier\"])\n",
    "bel_filtered = bel_filtered.assign(title = bel_filtered[\"Title\"])\n",
    "\n",
    "bel_filtered = bel_filtered.assign(museum = \"bel\")\n",
    "bel_filtered = bel_filtered.assign(url=bel[\"IsShownAt\"])\n",
    "bel_filtered = bel_filtered.assign(media_url=bel[\"Object\"])\n",
    "\n",
    "bel_to_combine = bel_filtered[[\"id\",\"id_column_name\", \"title\", \"dataset_name\" ]]\n",
    "#bel_to_combine.head()"
   ]
  },
  {
   "cell_type": "code",
   "execution_count": 43,
   "id": "c0ecc19a",
   "metadata": {
    "ExecuteTime": {
     "end_time": "2022-04-26T11:40:30.990067Z",
     "start_time": "2022-04-26T11:40:30.981791Z"
    }
   },
   "outputs": [
    {
     "data": {
      "text/html": [
       "<div>\n",
       "<style scoped>\n",
       "    .dataframe tbody tr th:only-of-type {\n",
       "        vertical-align: middle;\n",
       "    }\n",
       "\n",
       "    .dataframe tbody tr th {\n",
       "        vertical-align: top;\n",
       "    }\n",
       "\n",
       "    .dataframe thead th {\n",
       "        text-align: right;\n",
       "    }\n",
       "</style>\n",
       "<table border=\"1\" class=\"dataframe\">\n",
       "  <thead>\n",
       "    <tr style=\"text-align: right;\">\n",
       "      <th></th>\n",
       "      <th>museum</th>\n",
       "      <th>id</th>\n",
       "      <th>url</th>\n",
       "      <th>media_url</th>\n",
       "    </tr>\n",
       "  </thead>\n",
       "  <tbody>\n",
       "    <tr>\n",
       "      <th>0</th>\n",
       "      <td>bel</td>\n",
       "      <td>1093a-p</td>\n",
       "      <td>https://sammlung.belvedere.at/objects/97/16-an...</td>\n",
       "      <td>https://sammlung.belvedere.at/internal/media/d...</td>\n",
       "    </tr>\n",
       "    <tr>\n",
       "      <th>1</th>\n",
       "      <td>bel</td>\n",
       "      <td>3986</td>\n",
       "      <td>https://sammlung.belvedere.at/objects/2780/abe...</td>\n",
       "      <td>https://sammlung.belvedere.at/internal/media/d...</td>\n",
       "    </tr>\n",
       "    <tr>\n",
       "      <th>2</th>\n",
       "      <td>bel</td>\n",
       "      <td>5474</td>\n",
       "      <td>https://sammlung.belvedere.at/objects/4225/abe...</td>\n",
       "      <td>https://sammlung.belvedere.at/internal/media/d...</td>\n",
       "    </tr>\n",
       "    <tr>\n",
       "      <th>3</th>\n",
       "      <td>bel</td>\n",
       "      <td>3873</td>\n",
       "      <td>https://sammlung.belvedere.at/objects/2667/abe...</td>\n",
       "      <td>https://sammlung.belvedere.at/internal/media/d...</td>\n",
       "    </tr>\n",
       "    <tr>\n",
       "      <th>4</th>\n",
       "      <td>bel</td>\n",
       "      <td>5100</td>\n",
       "      <td>https://sammlung.belvedere.at/objects/3851/abe...</td>\n",
       "      <td>https://sammlung.belvedere.at/internal/media/d...</td>\n",
       "    </tr>\n",
       "    <tr>\n",
       "      <th>...</th>\n",
       "      <td>...</td>\n",
       "      <td>...</td>\n",
       "      <td>...</td>\n",
       "      <td>...</td>\n",
       "    </tr>\n",
       "    <tr>\n",
       "      <th>5108</th>\n",
       "      <td>bel</td>\n",
       "      <td>7240</td>\n",
       "      <td>https://sammlung.belvedere.at/objects/7028/zwe...</td>\n",
       "      <td>https://sammlung.belvedere.at/internal/media/d...</td>\n",
       "    </tr>\n",
       "    <tr>\n",
       "      <th>5109</th>\n",
       "      <td>bel</td>\n",
       "      <td>11046/51</td>\n",
       "      <td>https://sammlung.belvedere.at/objects/53934/zw...</td>\n",
       "      <td>https://sammlung.belvedere.at/internal/media/d...</td>\n",
       "    </tr>\n",
       "    <tr>\n",
       "      <th>5110</th>\n",
       "      <td>bel</td>\n",
       "      <td>9328</td>\n",
       "      <td>https://sammlung.belvedere.at/objects/10142/zw...</td>\n",
       "      <td>https://sammlung.belvedere.at/internal/media/d...</td>\n",
       "    </tr>\n",
       "    <tr>\n",
       "      <th>5111</th>\n",
       "      <td>bel</td>\n",
       "      <td>3293</td>\n",
       "      <td>https://sammlung.belvedere.at/objects/2090/zwe...</td>\n",
       "      <td>https://sammlung.belvedere.at/internal/media/d...</td>\n",
       "    </tr>\n",
       "    <tr>\n",
       "      <th>5112</th>\n",
       "      <td>bel</td>\n",
       "      <td>4664/16</td>\n",
       "      <td>https://sammlung.belvedere.at/objects/12046/zw...</td>\n",
       "      <td>https://sammlung.belvedere.at/internal/media/d...</td>\n",
       "    </tr>\n",
       "  </tbody>\n",
       "</table>\n",
       "<p>5113 rows × 4 columns</p>\n",
       "</div>"
      ],
      "text/plain": [
       "     museum        id                                                url  \\\n",
       "0       bel   1093a-p  https://sammlung.belvedere.at/objects/97/16-an...   \n",
       "1       bel      3986  https://sammlung.belvedere.at/objects/2780/abe...   \n",
       "2       bel      5474  https://sammlung.belvedere.at/objects/4225/abe...   \n",
       "3       bel      3873  https://sammlung.belvedere.at/objects/2667/abe...   \n",
       "4       bel      5100  https://sammlung.belvedere.at/objects/3851/abe...   \n",
       "...     ...       ...                                                ...   \n",
       "5108    bel      7240  https://sammlung.belvedere.at/objects/7028/zwe...   \n",
       "5109    bel  11046/51  https://sammlung.belvedere.at/objects/53934/zw...   \n",
       "5110    bel      9328  https://sammlung.belvedere.at/objects/10142/zw...   \n",
       "5111    bel      3293  https://sammlung.belvedere.at/objects/2090/zwe...   \n",
       "5112    bel   4664/16  https://sammlung.belvedere.at/objects/12046/zw...   \n",
       "\n",
       "                                              media_url  \n",
       "0     https://sammlung.belvedere.at/internal/media/d...  \n",
       "1     https://sammlung.belvedere.at/internal/media/d...  \n",
       "2     https://sammlung.belvedere.at/internal/media/d...  \n",
       "3     https://sammlung.belvedere.at/internal/media/d...  \n",
       "4     https://sammlung.belvedere.at/internal/media/d...  \n",
       "...                                                 ...  \n",
       "5108  https://sammlung.belvedere.at/internal/media/d...  \n",
       "5109  https://sammlung.belvedere.at/internal/media/d...  \n",
       "5110  https://sammlung.belvedere.at/internal/media/d...  \n",
       "5111  https://sammlung.belvedere.at/internal/media/d...  \n",
       "5112  https://sammlung.belvedere.at/internal/media/d...  \n",
       "\n",
       "[5113 rows x 4 columns]"
      ]
     },
     "execution_count": 43,
     "metadata": {},
     "output_type": "execute_result"
    }
   ],
   "source": [
    "bel_for_dataset = bel_filtered[[\"museum\", \"id\", \"url\", \"media_url\"]]\n",
    "bel_for_dataset"
   ]
  },
  {
   "cell_type": "code",
   "execution_count": 50,
   "id": "f830a41f",
   "metadata": {
    "ExecuteTime": {
     "end_time": "2022-04-26T11:43:24.688029Z",
     "start_time": "2022-04-26T11:43:24.618568Z"
    }
   },
   "outputs": [
    {
     "data": {
      "text/html": [
       "<div>\n",
       "<style scoped>\n",
       "    .dataframe tbody tr th:only-of-type {\n",
       "        vertical-align: middle;\n",
       "    }\n",
       "\n",
       "    .dataframe tbody tr th {\n",
       "        vertical-align: top;\n",
       "    }\n",
       "\n",
       "    .dataframe thead th {\n",
       "        text-align: right;\n",
       "    }\n",
       "</style>\n",
       "<table border=\"1\" class=\"dataframe\">\n",
       "  <thead>\n",
       "    <tr style=\"text-align: right;\">\n",
       "      <th></th>\n",
       "      <th>museum</th>\n",
       "      <th>id</th>\n",
       "      <th>url</th>\n",
       "      <th>media_url</th>\n",
       "    </tr>\n",
       "  </thead>\n",
       "  <tbody>\n",
       "    <tr>\n",
       "      <th>0</th>\n",
       "      <td>wm</td>\n",
       "      <td>1902639</td>\n",
       "      <td>https://sammlung.wienmuseum.at/objekt/1902639/</td>\n",
       "      <td>https://sammlung.wienmuseum.at/openapi-images/...</td>\n",
       "    </tr>\n",
       "    <tr>\n",
       "      <th>1</th>\n",
       "      <td>wm</td>\n",
       "      <td>1902640</td>\n",
       "      <td>https://sammlung.wienmuseum.at/objekt/1902640/</td>\n",
       "      <td>https://sammlung.wienmuseum.at/openapi-images/...</td>\n",
       "    </tr>\n",
       "    <tr>\n",
       "      <th>2</th>\n",
       "      <td>wm</td>\n",
       "      <td>1902641</td>\n",
       "      <td>https://sammlung.wienmuseum.at/objekt/1902641/</td>\n",
       "      <td>https://sammlung.wienmuseum.at/openapi-images/...</td>\n",
       "    </tr>\n",
       "    <tr>\n",
       "      <th>3</th>\n",
       "      <td>wm</td>\n",
       "      <td>1902642</td>\n",
       "      <td>https://sammlung.wienmuseum.at/objekt/1902642/</td>\n",
       "      <td>https://sammlung.wienmuseum.at/openapi-images/...</td>\n",
       "    </tr>\n",
       "    <tr>\n",
       "      <th>4</th>\n",
       "      <td>wm</td>\n",
       "      <td>1902643</td>\n",
       "      <td>https://sammlung.wienmuseum.at/objekt/1902643/</td>\n",
       "      <td>https://sammlung.wienmuseum.at/openapi-images/...</td>\n",
       "    </tr>\n",
       "    <tr>\n",
       "      <th>...</th>\n",
       "      <td>...</td>\n",
       "      <td>...</td>\n",
       "      <td>...</td>\n",
       "      <td>...</td>\n",
       "    </tr>\n",
       "    <tr>\n",
       "      <th>327297</th>\n",
       "      <td>bel</td>\n",
       "      <td>7240</td>\n",
       "      <td>https://sammlung.belvedere.at/objects/7028/zwe...</td>\n",
       "      <td>https://sammlung.belvedere.at/internal/media/d...</td>\n",
       "    </tr>\n",
       "    <tr>\n",
       "      <th>327298</th>\n",
       "      <td>bel</td>\n",
       "      <td>11046/51</td>\n",
       "      <td>https://sammlung.belvedere.at/objects/53934/zw...</td>\n",
       "      <td>https://sammlung.belvedere.at/internal/media/d...</td>\n",
       "    </tr>\n",
       "    <tr>\n",
       "      <th>327299</th>\n",
       "      <td>bel</td>\n",
       "      <td>9328</td>\n",
       "      <td>https://sammlung.belvedere.at/objects/10142/zw...</td>\n",
       "      <td>https://sammlung.belvedere.at/internal/media/d...</td>\n",
       "    </tr>\n",
       "    <tr>\n",
       "      <th>327300</th>\n",
       "      <td>bel</td>\n",
       "      <td>3293</td>\n",
       "      <td>https://sammlung.belvedere.at/objects/2090/zwe...</td>\n",
       "      <td>https://sammlung.belvedere.at/internal/media/d...</td>\n",
       "    </tr>\n",
       "    <tr>\n",
       "      <th>327301</th>\n",
       "      <td>bel</td>\n",
       "      <td>4664/16</td>\n",
       "      <td>https://sammlung.belvedere.at/objects/12046/zw...</td>\n",
       "      <td>https://sammlung.belvedere.at/internal/media/d...</td>\n",
       "    </tr>\n",
       "  </tbody>\n",
       "</table>\n",
       "<p>327302 rows × 4 columns</p>\n",
       "</div>"
      ],
      "text/plain": [
       "       museum        id                                                url  \\\n",
       "0          wm   1902639     https://sammlung.wienmuseum.at/objekt/1902639/   \n",
       "1          wm   1902640     https://sammlung.wienmuseum.at/objekt/1902640/   \n",
       "2          wm   1902641     https://sammlung.wienmuseum.at/objekt/1902641/   \n",
       "3          wm   1902642     https://sammlung.wienmuseum.at/objekt/1902642/   \n",
       "4          wm   1902643     https://sammlung.wienmuseum.at/objekt/1902643/   \n",
       "...       ...       ...                                                ...   \n",
       "327297    bel      7240  https://sammlung.belvedere.at/objects/7028/zwe...   \n",
       "327298    bel  11046/51  https://sammlung.belvedere.at/objects/53934/zw...   \n",
       "327299    bel      9328  https://sammlung.belvedere.at/objects/10142/zw...   \n",
       "327300    bel      3293  https://sammlung.belvedere.at/objects/2090/zwe...   \n",
       "327301    bel   4664/16  https://sammlung.belvedere.at/objects/12046/zw...   \n",
       "\n",
       "                                                media_url  \n",
       "0       https://sammlung.wienmuseum.at/openapi-images/...  \n",
       "1       https://sammlung.wienmuseum.at/openapi-images/...  \n",
       "2       https://sammlung.wienmuseum.at/openapi-images/...  \n",
       "3       https://sammlung.wienmuseum.at/openapi-images/...  \n",
       "4       https://sammlung.wienmuseum.at/openapi-images/...  \n",
       "...                                                   ...  \n",
       "327297  https://sammlung.belvedere.at/internal/media/d...  \n",
       "327298  https://sammlung.belvedere.at/internal/media/d...  \n",
       "327299  https://sammlung.belvedere.at/internal/media/d...  \n",
       "327300  https://sammlung.belvedere.at/internal/media/d...  \n",
       "327301  https://sammlung.belvedere.at/internal/media/d...  \n",
       "\n",
       "[327302 rows x 4 columns]"
      ]
     },
     "execution_count": 50,
     "metadata": {},
     "output_type": "execute_result"
    }
   ],
   "source": [
    "df_combined_dataset = pd.concat([wm_for_dataset, mak_for_dataset, bel_for_dataset]).reset_index(drop=True)\n",
    "df_combined_dataset"
   ]
  },
  {
   "cell_type": "code",
   "execution_count": 52,
   "id": "f654b98a",
   "metadata": {
    "ExecuteTime": {
     "end_time": "2022-04-26T11:43:39.802293Z",
     "start_time": "2022-04-26T11:43:39.752145Z"
    }
   },
   "outputs": [],
   "source": [
    "df_combined = pd.concat([wm_to_combine, mak_to_combine, bel_to_combine]).reset_index(drop=True)\n",
    "#df_combined"
   ]
  },
  {
   "cell_type": "code",
   "execution_count": 51,
   "id": "edd728c0",
   "metadata": {
    "ExecuteTime": {
     "end_time": "2022-04-26T11:43:37.110834Z",
     "start_time": "2022-04-26T11:43:31.080059Z"
    }
   },
   "outputs": [
    {
     "ename": "KeyboardInterrupt",
     "evalue": "",
     "output_type": "error",
     "traceback": [
      "\u001b[0;31m---------------------------------------------------------------------------\u001b[0m",
      "\u001b[0;31mKeyboardInterrupt\u001b[0m                         Traceback (most recent call last)",
      "Input \u001b[0;32mIn [51]\u001b[0m, in \u001b[0;36m<cell line: 4>\u001b[0;34m()\u001b[0m\n\u001b[1;32m      1\u001b[0m \u001b[38;5;66;03m# wm \u001b[39;00m\n\u001b[1;32m      2\u001b[0m \u001b[38;5;66;03m# mak\u001b[39;00m\n\u001b[1;32m      3\u001b[0m \u001b[38;5;66;03m# bel\u001b[39;00m\n\u001b[0;32m----> 4\u001b[0m combined \u001b[38;5;241m=\u001b[39m \u001b[43mnp\u001b[49m\u001b[38;5;241;43m.\u001b[39;49m\u001b[43mloadtxt\u001b[49m\u001b[43m(\u001b[49m\u001b[38;5;124;43m'\u001b[39;49m\u001b[38;5;124;43mdata/sentence_embeddings_combined.csv\u001b[39;49m\u001b[38;5;124;43m'\u001b[39;49m\u001b[43m,\u001b[49m\u001b[43m \u001b[49m\u001b[43mdelimiter\u001b[49m\u001b[38;5;241;43m=\u001b[39;49m\u001b[38;5;124;43m'\u001b[39;49m\u001b[38;5;124;43m,\u001b[39;49m\u001b[38;5;124;43m'\u001b[39;49m\u001b[43m)\u001b[49m\n",
      "File \u001b[0;32m~/anaconda3/envs/livia/lib/python3.9/site-packages/numpy/lib/npyio.py:1148\u001b[0m, in \u001b[0;36mloadtxt\u001b[0;34m(fname, dtype, comments, delimiter, converters, skiprows, usecols, unpack, ndmin, encoding, max_rows, like)\u001b[0m\n\u001b[1;32m   1143\u001b[0m \u001b[38;5;66;03m# read data in chunks and fill it into an array via resize\u001b[39;00m\n\u001b[1;32m   1144\u001b[0m \u001b[38;5;66;03m# over-allocating and shrinking the array later may be faster but is\u001b[39;00m\n\u001b[1;32m   1145\u001b[0m \u001b[38;5;66;03m# probably not relevant compared to the cost of actually reading and\u001b[39;00m\n\u001b[1;32m   1146\u001b[0m \u001b[38;5;66;03m# converting the data\u001b[39;00m\n\u001b[1;32m   1147\u001b[0m X \u001b[38;5;241m=\u001b[39m \u001b[38;5;28;01mNone\u001b[39;00m\n\u001b[0;32m-> 1148\u001b[0m \u001b[38;5;28;01mfor\u001b[39;00m x \u001b[38;5;129;01min\u001b[39;00m read_data(_loadtxt_chunksize):\n\u001b[1;32m   1149\u001b[0m     \u001b[38;5;28;01mif\u001b[39;00m X \u001b[38;5;129;01mis\u001b[39;00m \u001b[38;5;28;01mNone\u001b[39;00m:\n\u001b[1;32m   1150\u001b[0m         X \u001b[38;5;241m=\u001b[39m np\u001b[38;5;241m.\u001b[39marray(x, dtype)\n",
      "File \u001b[0;32m~/anaconda3/envs/livia/lib/python3.9/site-packages/numpy/lib/npyio.py:988\u001b[0m, in \u001b[0;36mloadtxt.<locals>.read_data\u001b[0;34m(chunk_size)\u001b[0m\n\u001b[1;32m    986\u001b[0m line_iter \u001b[38;5;241m=\u001b[39m itertools\u001b[38;5;241m.\u001b[39mislice(line_iter, max_rows)\n\u001b[1;32m    987\u001b[0m \u001b[38;5;28;01mfor\u001b[39;00m i, line \u001b[38;5;129;01min\u001b[39;00m \u001b[38;5;28menumerate\u001b[39m(line_iter):\n\u001b[0;32m--> 988\u001b[0m     vals \u001b[38;5;241m=\u001b[39m \u001b[43msplit_line\u001b[49m\u001b[43m(\u001b[49m\u001b[43mline\u001b[49m\u001b[43m)\u001b[49m\n\u001b[1;32m    989\u001b[0m     \u001b[38;5;28;01mif\u001b[39;00m \u001b[38;5;28mlen\u001b[39m(vals) \u001b[38;5;241m==\u001b[39m \u001b[38;5;241m0\u001b[39m:\n\u001b[1;32m    990\u001b[0m         \u001b[38;5;28;01mcontinue\u001b[39;00m\n",
      "File \u001b[0;32m~/anaconda3/envs/livia/lib/python3.9/site-packages/numpy/lib/npyio.py:970\u001b[0m, in \u001b[0;36mloadtxt.<locals>.split_line\u001b[0;34m(line)\u001b[0m\n\u001b[1;32m    968\u001b[0m     line \u001b[38;5;241m=\u001b[39m regex_comments\u001b[38;5;241m.\u001b[39msplit(line, maxsplit\u001b[38;5;241m=\u001b[39m\u001b[38;5;241m1\u001b[39m)[\u001b[38;5;241m0\u001b[39m]\n\u001b[1;32m    969\u001b[0m line \u001b[38;5;241m=\u001b[39m line\u001b[38;5;241m.\u001b[39mstrip(\u001b[38;5;124m'\u001b[39m\u001b[38;5;130;01m\\r\u001b[39;00m\u001b[38;5;130;01m\\n\u001b[39;00m\u001b[38;5;124m'\u001b[39m)\n\u001b[0;32m--> 970\u001b[0m \u001b[38;5;28;01mreturn\u001b[39;00m \u001b[43mline\u001b[49m\u001b[38;5;241;43m.\u001b[39;49m\u001b[43msplit\u001b[49m\u001b[43m(\u001b[49m\u001b[43mdelimiter\u001b[49m\u001b[43m)\u001b[49m \u001b[38;5;28;01mif\u001b[39;00m line \u001b[38;5;28;01melse\u001b[39;00m []\n",
      "\u001b[0;31mKeyboardInterrupt\u001b[0m: "
     ]
    }
   ],
   "source": [
    "# wm \n",
    "# mak\n",
    "# bel\n",
    "combined = np.loadtxt('data/sentence_embeddings_combined.csv', delimiter=',')\n",
    "# 2 min runtime"
   ]
  },
  {
   "cell_type": "code",
   "execution_count": null,
   "id": "48dab13e",
   "metadata": {
    "ExecuteTime": {
     "end_time": "2022-04-26T09:22:55.212513Z",
     "start_time": "2022-04-26T09:22:49.014818Z"
    }
   },
   "outputs": [],
   "source": [
    "stand_combined_embs = (combined - np.mean(combined, axis=0)) / np.std(combined, axis=0)\n",
    "pca_3d = PCA(n_components=3)\n",
    "embeddings_3d = pca_3d.fit_transform(stand_combined_embs)\n",
    "#print(3, sum(pca_3d.explained_variance_ratio_))"
   ]
  },
  {
   "cell_type": "code",
   "execution_count": null,
   "id": "bd72e683",
   "metadata": {
    "ExecuteTime": {
     "end_time": "2022-04-26T10:31:39.173614Z",
     "start_time": "2022-04-26T10:31:39.159184Z"
    }
   },
   "outputs": [],
   "source": [
    "df_combined[\"x\"] = embeddings_3d[:,0]\n",
    "df_combined[\"y\"] = embeddings_3d[:,1]\n",
    "df_combined[\"z\"] = embeddings_3d[:,2]"
   ]
  },
  {
   "cell_type": "code",
   "execution_count": null,
   "id": "f1b73b2b",
   "metadata": {
    "ExecuteTime": {
     "end_time": "2022-04-26T10:31:42.396497Z",
     "start_time": "2022-04-26T10:31:42.385826Z"
    }
   },
   "outputs": [],
   "source": [
    "df_combined"
   ]
  },
  {
   "cell_type": "code",
   "execution_count": null,
   "id": "9221fefd",
   "metadata": {
    "ExecuteTime": {
     "end_time": "2022-04-26T09:16:20.258490Z",
     "start_time": "2022-04-26T09:16:14.328023Z"
    }
   },
   "outputs": [],
   "source": [
    "fig = px.scatter_3d(df_combined, \n",
    "                    x='x', y='y', z='z', \n",
    "                    color='dataset_name', \n",
    "                    hover_name=\"title\", # what to show when hovered over,\n",
    "                    width=2500, height=1250, # adjust height and width\n",
    "                    title=\"Combined Data\")\n",
    "\n",
    "# make set size for legend and hover label\n",
    "fig.update_layout(showlegend=True,\n",
    "                 legend = dict(\n",
    "                        font = dict(size = 10)\n",
    "                        ), \n",
    "                hoverlabel=dict(\n",
    "                        font_size=10,\n",
    "                        )\n",
    "                )\n",
    "\n",
    "# set marker size\n",
    "fig.update_traces(marker_size = 3)\n",
    "fig.show()"
   ]
  },
  {
   "cell_type": "markdown",
   "id": "fad12e02",
   "metadata": {},
   "source": [
    "load each embedding separately and combine later"
   ]
  },
  {
   "cell_type": "code",
   "execution_count": 53,
   "id": "40d8c237",
   "metadata": {
    "ExecuteTime": {
     "end_time": "2022-04-26T11:45:34.500159Z",
     "start_time": "2022-04-26T11:43:44.723580Z"
    }
   },
   "outputs": [],
   "source": [
    "se_wm = np.loadtxt('data/sentence_embeddings_wm.csv', delimiter=',')\n",
    "se_mak = np.loadtxt('data/sentence_embeddings_mak.csv', delimiter=',')\n",
    "se_bel = np.loadtxt('data/sentence_embeddings_bel.csv', delimiter=',')"
   ]
  },
  {
   "cell_type": "code",
   "execution_count": 54,
   "id": "72cea4d9",
   "metadata": {
    "ExecuteTime": {
     "end_time": "2022-04-26T11:45:35.338630Z",
     "start_time": "2022-04-26T11:45:34.502658Z"
    }
   },
   "outputs": [
    {
     "data": {
      "text/plain": [
       "(327302, 512)"
      ]
     },
     "execution_count": 54,
     "metadata": {},
     "output_type": "execute_result"
    }
   ],
   "source": [
    "# rename ind to sep\n",
    "combined_sep = np.concatenate((se_wm, se_mak, se_bel), axis=0)\n",
    "combined_sep.shape"
   ]
  },
  {
   "cell_type": "code",
   "execution_count": 55,
   "id": "21dca819",
   "metadata": {
    "ExecuteTime": {
     "end_time": "2022-04-26T11:45:53.490000Z",
     "start_time": "2022-04-26T11:45:35.340686Z"
    }
   },
   "outputs": [
    {
     "name": "stdout",
     "output_type": "stream",
     "text": [
      "100 0.8000651852083122\n"
     ]
    }
   ],
   "source": [
    "n = 100\n",
    "stand_combined_embs_sep = (combined_sep - np.mean(combined_sep, axis=0)) / np.std(combined_sep, axis=0)\n",
    "pca_3d_sep = PCA(n_components=n)\n",
    "embeddings_3d_sep = pca_3d_sep.fit_transform(stand_combined_embs_sep)\n",
    "print(n, sum(pca_3d_sep.explained_variance_ratio_))"
   ]
  },
  {
   "cell_type": "code",
   "execution_count": 58,
   "id": "d827e9a6",
   "metadata": {
    "ExecuteTime": {
     "end_time": "2022-04-26T11:47:16.075853Z",
     "start_time": "2022-04-26T11:47:15.759585Z"
    }
   },
   "outputs": [
    {
     "name": "stderr",
     "output_type": "stream",
     "text": [
      "/tmp/ipykernel_28110/3220056294.py:3: PerformanceWarning: DataFrame is highly fragmented.  This is usually the result of calling `frame.insert` many times, which has poor performance.  Consider joining all columns at once using pd.concat(axis=1) instead. To get a de-fragmented frame, use `newframe = frame.copy()`\n",
      "  dataset[i]=embeddings_3d_sep[:,i]\n"
     ]
    }
   ],
   "source": [
    "dataset = df_combined_dataset.copy(deep=True)\n",
    "for i in range(n):\n",
    "    dataset[i]=embeddings_3d_sep[:,i]"
   ]
  },
  {
   "cell_type": "code",
   "execution_count": 64,
   "id": "c196968a",
   "metadata": {
    "ExecuteTime": {
     "end_time": "2022-04-26T11:53:51.182202Z",
     "start_time": "2022-04-26T11:53:14.056715Z"
    }
   },
   "outputs": [],
   "source": [
    "dataset.to_csv(\"data/combined_dataset_se=100d.csv\")"
   ]
  },
  {
   "cell_type": "code",
   "execution_count": null,
   "id": "60515daf",
   "metadata": {
    "ExecuteTime": {
     "end_time": "2022-04-26T11:13:09.511675Z",
     "start_time": "2022-04-26T11:13:09.474098Z"
    }
   },
   "outputs": [],
   "source": [
    "df_combined_sep = df_combined.copy(deep=True)\n",
    "df_combined_sep[\"x\"] = embeddings_3d_sep[:,0]\n",
    "df_combined_sep[\"y\"] = embeddings_3d_sep[:,1]\n",
    "df_combined_sep[\"z\"] = embeddings_3d_sep[:,2]"
   ]
  },
  {
   "cell_type": "code",
   "execution_count": null,
   "id": "3ca0b5ea",
   "metadata": {
    "ExecuteTime": {
     "end_time": "2022-04-26T10:32:06.054581Z",
     "start_time": "2022-04-26T10:32:06.041755Z"
    }
   },
   "outputs": [],
   "source": [
    "df_combined_sep"
   ]
  },
  {
   "cell_type": "code",
   "execution_count": null,
   "id": "73d79da9",
   "metadata": {
    "ExecuteTime": {
     "end_time": "2022-04-26T10:32:11.008715Z",
     "start_time": "2022-04-26T10:32:10.991373Z"
    }
   },
   "outputs": [],
   "source": [
    "df_combined"
   ]
  },
  {
   "cell_type": "code",
   "execution_count": null,
   "id": "574af603",
   "metadata": {
    "ExecuteTime": {
     "end_time": "2022-04-26T10:32:50.499015Z",
     "start_time": "2022-04-26T10:32:44.629136Z"
    },
    "scrolled": true
   },
   "outputs": [],
   "source": [
    "fig = px.scatter_3d(df_combined_sep, \n",
    "                    x='x', y='y', z='z', \n",
    "                    color='dataset_name', \n",
    "                    hover_name=\"title\", # what to show when hovered over,\n",
    "                    width=2500, height=1250, # adjust height and width\n",
    "                    title=\"Combined Data\")\n",
    "\n",
    "# make set size for legend and hover label\n",
    "fig.update_layout(showlegend=True,\n",
    "                 legend = dict(\n",
    "                        font = dict(size = 10)\n",
    "                        ), \n",
    "                hoverlabel=dict(\n",
    "                        font_size=10,\n",
    "                        )\n",
    "                )\n",
    "\n",
    "# set marker size\n",
    "fig.update_traces(marker_size = 3)\n",
    "fig.show()"
   ]
  },
  {
   "cell_type": "code",
   "execution_count": null,
   "id": "024d08e1",
   "metadata": {
    "ExecuteTime": {
     "end_time": "2022-04-26T11:13:26.577923Z",
     "start_time": "2022-04-26T11:13:26.555491Z"
    }
   },
   "outputs": [],
   "source": [
    "df_combined"
   ]
  },
  {
   "cell_type": "code",
   "execution_count": null,
   "id": "6913af9c",
   "metadata": {
    "ExecuteTime": {
     "start_time": "2022-04-26T11:13:56.149Z"
    }
   },
   "outputs": [],
   "source": [
    "stand_combined_embs_sep = (combined_sep - np.mean(combined_sep, axis=0)) / np.std(combined_sep, axis=0)\n",
    "pca_3d_sep = PCA(n_components=3)\n",
    "embeddings_3d_sep = pca_3d_sep.fit_transform(stand_combined_embs_sep)\n",
    "print(3, sum(pca_3d_sep.explained_variance_ratio_))"
   ]
  },
  {
   "cell_type": "code",
   "execution_count": 3,
   "id": "3cb37de2",
   "metadata": {
    "ExecuteTime": {
     "end_time": "2022-04-27T07:00:42.663846Z",
     "start_time": "2022-04-27T07:00:42.660481Z"
    }
   },
   "outputs": [
    {
     "data": {
      "text/plain": [
       "100"
      ]
     },
     "execution_count": 3,
     "metadata": {},
     "output_type": "execute_result"
    }
   ],
   "source": [
    "len(list(range(4,104)))"
   ]
  },
  {
   "cell_type": "code",
   "execution_count": null,
   "id": "117411f4",
   "metadata": {},
   "outputs": [],
   "source": []
  }
 ],
 "metadata": {
  "kernelspec": {
   "display_name": "Python 3 (ipykernel)",
   "language": "python",
   "name": "python3"
  },
  "language_info": {
   "codemirror_mode": {
    "name": "ipython",
    "version": 3
   },
   "file_extension": ".py",
   "mimetype": "text/x-python",
   "name": "python",
   "nbconvert_exporter": "python",
   "pygments_lexer": "ipython3",
   "version": "3.9.7"
  },
  "toc": {
   "base_numbering": 1,
   "nav_menu": {},
   "number_sections": true,
   "sideBar": true,
   "skip_h1_title": false,
   "title_cell": "Table of Contents",
   "title_sidebar": "Contents",
   "toc_cell": false,
   "toc_position": {},
   "toc_section_display": true,
   "toc_window_display": true
  }
 },
 "nbformat": 4,
 "nbformat_minor": 5
}
