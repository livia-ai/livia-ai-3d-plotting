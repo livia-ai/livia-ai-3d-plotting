{
 "cells": [
  {
   "cell_type": "markdown",
   "id": "0a7196df",
   "metadata": {},
   "source": [
    "## Imports"
   ]
  },
  {
   "cell_type": "code",
   "execution_count": 1,
   "id": "34ba0018",
   "metadata": {
    "ExecuteTime": {
     "end_time": "2022-06-09T06:14:09.974708Z",
     "start_time": "2022-06-09T06:14:05.767515Z"
    }
   },
   "outputs": [],
   "source": [
    "import torch\n",
    "torch.cuda.empty_cache() \n",
    "from torch import nn\n",
    "import torch.nn.functional as F\n",
    "from torchvision import transforms\n",
    "\n",
    "import livia.embedding as embedding\n",
    "from _7_image_embedding.dataset import TripletDataset\n",
    "from torch.utils.tensorboard import SummaryWriter\n",
    "\n",
    "from tqdm import tqdm\n",
    "import numpy as np"
   ]
  },
  {
   "cell_type": "markdown",
   "id": "d12c2e1d",
   "metadata": {},
   "source": [
    "## Create dataset and load data"
   ]
  },
  {
   "cell_type": "code",
   "execution_count": 2,
   "id": "547051c6",
   "metadata": {
    "ExecuteTime": {
     "end_time": "2022-06-08T14:02:20.817609Z",
     "start_time": "2022-06-08T14:02:07.383384Z"
    }
   },
   "outputs": [],
   "source": [
    "# specify root directory that contains the images\n",
    "root_dir = 'data/test_images/wm_cropped_train'\n",
    "\n",
    "# load sentece embedding that should be used for computing triplets\n",
    "embedding_loaded = embedding.load_csv(\"data/wm/wm_sbert_title_districts_subjects_256d.csv\")\n",
    "\n",
    "# specify transforms\n",
    "size = 224\n",
    "transform = transforms.Compose([transforms.ToTensor()])#, transforms.CenterCrop(size)])"
   ]
  },
  {
   "cell_type": "code",
   "execution_count": 3,
   "id": "14f01938",
   "metadata": {
    "ExecuteTime": {
     "end_time": "2022-06-08T14:03:10.549385Z",
     "start_time": "2022-06-08T14:02:20.820454Z"
    }
   },
   "outputs": [
    {
     "name": "stdout",
     "output_type": "stream",
     "text": [
      "2000 triplets are generated. This may take a while ... \n",
      "3 triplets have been removed to preserve uniqueness\n",
      "1997 triplets are returned\n",
      "10 triplets are generated. This may take a while ... \n",
      "0 triplets have been removed to preserve uniqueness\n",
      "10 triplets are returned\n"
     ]
    }
   ],
   "source": [
    "# generate train and test dataset\n",
    "train_dataset = TripletDataset(sentence_embedding=embedding_loaded, \n",
    "                         root_dir=root_dir,\n",
    "                         n = 2000,\n",
    "                         transform=transform)\n",
    "\n",
    "test_dataset = TripletDataset(sentence_embedding=embedding_loaded, \n",
    "                         root_dir=root_dir,\n",
    "                         n = 10,\n",
    "                         transform=transform)"
   ]
  },
  {
   "cell_type": "code",
   "execution_count": 4,
   "id": "afb010e2",
   "metadata": {
    "ExecuteTime": {
     "end_time": "2022-06-08T14:03:10.555400Z",
     "start_time": "2022-06-08T14:03:10.551078Z"
    }
   },
   "outputs": [],
   "source": [
    "# create dataloaders\n",
    "batch_size = 32\n",
    "train_dataloader = torch.utils.data.DataLoader(train_dataset, batch_size=batch_size, shuffle=True)\n",
    "test_dataloader = torch.utils.data.DataLoader(test_dataset, batch_size=batch_size, shuffle=False)"
   ]
  },
  {
   "cell_type": "markdown",
   "id": "25ee7ba6",
   "metadata": {},
   "source": [
    "## Create Model"
   ]
  },
  {
   "cell_type": "code",
   "execution_count": 20,
   "id": "fd259fe9",
   "metadata": {
    "ExecuteTime": {
     "end_time": "2022-06-08T14:05:45.042773Z",
     "start_time": "2022-06-08T14:05:45.026273Z"
    }
   },
   "outputs": [],
   "source": [
    "# Creating a class\n",
    "class EmbeddingNet(torch.nn.Module):\n",
    "    def __init__(self):\n",
    "        super(EmbeddingNet, self).__init__() \n",
    "\n",
    "        self.pool = nn.MaxPool2d(2,2)\n",
    "        self.relu = nn.ReLU(True)\n",
    "        self.sigmoid = nn.Sigmoid()\n",
    "        self.flatten = nn.Flatten()\n",
    "\n",
    "        # encoder layers\n",
    "        self.conv1 = nn.Conv2d(3, 16, 11)\n",
    "        self.conv2 = nn.Conv2d(16, 16, 1)\n",
    "        \n",
    "        \n",
    "        self.conv3 = nn.Conv2d(16, 8, 9)\n",
    "        self.conv4 = nn.Conv2d(8, 8, 9)\n",
    "        \n",
    "        self.conv5 = nn.Conv2d(8, 8, 7)\n",
    "        self.conv6 = nn.Conv2d(8, 4, 7)\n",
    "        \n",
    "        \n",
    "        self.lin1 = nn.Linear(1024, 512)\n",
    "        self.lin2 = nn.Linear(512, 32)\n",
    "\n",
    "\n",
    "    def forward(self, x):\n",
    "\n",
    "        # encoder\n",
    "        h = self.relu(self.conv1(x))\n",
    "        h = self.relu(self.conv2(h))\n",
    "        h = self.pool(h)\n",
    "        \n",
    "        h = self.relu(self.conv3(h))\n",
    "        h = self.relu(self.conv4(h))\n",
    "        h = self.pool(h)        \n",
    "        \n",
    "        h = self.relu(self.conv5(h))\n",
    "        h = self.relu(self.conv6(h))\n",
    "        h = self.pool(h)\n",
    "            \n",
    "        h = self.relu(self.lin1(self.flatten(h)))\n",
    "        h = self.lin2(h)\n",
    "        \n",
    "        #print(h.shape)\n",
    "            \n",
    "        return h\n",
    "    \n",
    "    \n",
    "class TripletNet(nn.Module):\n",
    "    def __init__(self, embedding_model):\n",
    "        super(TripletNet, self).__init__()\n",
    "        self.embedding_model = embedding_model\n",
    "\n",
    "    def forward(self, anchor, pos, neg):\n",
    "        embedded_anchor = self.embedding_model(anchor)\n",
    "        embedded_pos = self.embedding_model(pos)\n",
    "        embedded_neg = self.embedding_model(neg)\n",
    "        \n",
    "        return embedded_anchor, embedded_pos, embedded_neg\n",
    "    \n",
    "emb_net = EmbeddingNet()\n",
    "model = TripletNet(emb_net).to(device=\"cuda\")"
   ]
  },
  {
   "cell_type": "code",
   "execution_count": 21,
   "id": "3b07aa68",
   "metadata": {
    "ExecuteTime": {
     "end_time": "2022-06-08T14:05:45.823650Z",
     "start_time": "2022-06-08T14:05:45.657253Z"
    }
   },
   "outputs": [
    {
     "name": "stdout",
     "output_type": "stream",
     "text": [
      "in: torch.Size([32, 3, 224, 224])\n",
      "h: torch.Size([32, 32])\n"
     ]
    }
   ],
   "source": [
    "for anchor, pos, neg in train_dataloader:\n",
    "\n",
    "    print(\"in:\", anchor.shape)\n",
    "\n",
    "    anchor = anchor.to(device=\"cuda\")\n",
    "    pos = pos.to(device=\"cuda\")\n",
    "    neg = neg.to(device=\"cuda\")\n",
    "\n",
    "    anch_hidden, pos_hidden, neg_hidden = model(anchor, pos, neg)\n",
    "\n",
    "    print(\"h:\", anch_hidden.shape)\n",
    "    break\n"
   ]
  },
  {
   "cell_type": "markdown",
   "id": "7de470dc",
   "metadata": {},
   "source": [
    "## Train Model"
   ]
  },
  {
   "cell_type": "code",
   "execution_count": 22,
   "id": "405b63db",
   "metadata": {
    "ExecuteTime": {
     "end_time": "2022-06-08T14:39:48.371840Z",
     "start_time": "2022-06-08T14:05:48.111117Z"
    }
   },
   "outputs": [
    {
     "name": "stderr",
     "output_type": "stream",
     "text": [
      "100%|██████████████████████████████████████████████████████████████████████████████| 100/100 [34:00<00:00, 20.40s/it, 0.01119]\n"
     ]
    }
   ],
   "source": [
    "# triplet loss\n",
    "margin=1\n",
    "triplet_loss = torch.nn.TripletMarginLoss(margin=margin)\n",
    "#triplet_loss = nn.TripletMarginWithDistanceLoss(distance_function=lambda x, y: 1-F.cosine_similarity(x, y), \n",
    "#                                                margin=margin)\n",
    "\n",
    "emb_net = EmbeddingNet()\n",
    "model = TripletNet(emb_net).to(device=\"cuda\")\n",
    "lr=1e-4\n",
    "optimizer = torch.optim.Adam(model.parameters(), lr=lr)\n",
    "\n",
    "train_loss = list()\n",
    "\n",
    "writer = SummaryWriter(f'experiments/runs/triplet_network_margin={margin}_lr={lr}')#_centercropped={size}\n",
    "\n",
    "num_epochs = 100\n",
    "progress_bar = tqdm(range(num_epochs))\n",
    "j = 0\n",
    "for i in progress_bar:\n",
    "\n",
    "    #if i%print_at == 0:\n",
    "    #    print(f\"Epoch:{i}\")\n",
    "\n",
    "    epoch_loss = list()\n",
    "    for anchor, positive, negative in train_dataloader:\n",
    "        \n",
    "        anchor = anchor.to(device=\"cuda\")\n",
    "        pos = positive.to(device=\"cuda\")\n",
    "        neg = negative.to(device=\"cuda\")\n",
    "\n",
    "        anch_hidden, pos_hidden, neg_hidden = model(anchor, pos, neg)\n",
    "        \n",
    "        \n",
    "        loss = triplet_loss(anch_hidden, pos_hidden, neg_hidden)\n",
    "        \n",
    "        \n",
    "        loss.backward()\n",
    "        optimizer.step()\n",
    "        \n",
    "        j += 1\n",
    "        \n",
    "        optimizer.zero_grad()\n",
    "        \n",
    "        loss_info = loss.cpu().detach().numpy()\n",
    "        \n",
    "        epoch_loss.append(loss_info)\n",
    "        \n",
    "        if j%10==0:\n",
    "            writer.add_scalar('training/loss',\n",
    "                    loss_info,\n",
    "                    j)\n",
    "\n",
    "    # compute epoch loss and write into progress bar\n",
    "    loss_str = str(np.around(np.mean(epoch_loss),5))\n",
    "    progress_bar.set_postfix_str(loss_str)\n",
    "    \n",
    "    # tensorboard\n",
    "    writer.add_scalar('training/mean epoch loss',\n",
    "                    np.around(np.mean(epoch_loss),5),\n",
    "                    i)\n",
    "    \n",
    "    # save epoch loss\n",
    "    train_loss.append(np.mean(epoch_loss))\n"
   ]
  },
  {
   "cell_type": "code",
   "execution_count": null,
   "id": "f49beb0a",
   "metadata": {},
   "outputs": [],
   "source": []
  }
 ],
 "metadata": {
  "interpreter": {
   "hash": "4853723be14513e11399f609d0948d8a05707e5d46f1599ed932a377c846aafa"
  },
  "kernelspec": {
   "display_name": "Python 3 (ipykernel)",
   "language": "python",
   "name": "python3"
  },
  "language_info": {
   "codemirror_mode": {
    "name": "ipython",
    "version": 3
   },
   "file_extension": ".py",
   "mimetype": "text/x-python",
   "name": "python",
   "nbconvert_exporter": "python",
   "pygments_lexer": "ipython3",
   "version": "3.9.11"
  },
  "toc": {
   "base_numbering": 1,
   "nav_menu": {},
   "number_sections": true,
   "sideBar": true,
   "skip_h1_title": false,
   "title_cell": "Table of Contents",
   "title_sidebar": "Contents",
   "toc_cell": false,
   "toc_position": {},
   "toc_section_display": true,
   "toc_window_display": false
  }
 },
 "nbformat": 4,
 "nbformat_minor": 5
}
