{
 "cells": [
  {
   "cell_type": "code",
   "execution_count": 1,
   "metadata": {},
   "outputs": [],
   "source": [
    "import torch\n",
    "torch.cuda.empty_cache() \n",
    "from torchvision import transforms\n",
    "\n",
    "import livia.embedding as embedding\n",
    "import livia.triplet as triplet\n",
    "\n",
    "import pandas as pd\n",
    "import pickle\n",
    "import os\n",
    "import sys\n",
    "import sklearn\n",
    "import matplotlib.pyplot as plt\n",
    "import numpy as np\n",
    "sys.path.append('./_7_image_embedding')\n",
    "\n",
    "import _7_image_embedding.utility_functions  as uf\n",
    "from sklearn.decomposition import PCA\n",
    "\n",
    "if torch.cuda.is_available(): \n",
    "    device = \"cuda\" \n",
    "else: \n",
    "    device = \"cpu\"   "
   ]
  },
  {
   "cell_type": "code",
   "execution_count": 2,
   "metadata": {},
   "outputs": [],
   "source": [
    "museum = \"wm\"\n",
    "# specify run_name + log_dir + eval_dir + root directory\n",
    "# root_dir -> where images are stored\n",
    "root_dir = f'data_local/images/{museum}_cropped'\n",
    "# log_dir + run_name\n",
    "log_dir = \"experiments/runs/from_server/\"\n",
    "run_name = 'grayscale_wm_pretrained_unfrozen_triplets=249996_size=224_bs=32_margin=1_epochs=10_lr=0.0001_noise=0.005'"
   ]
  },
  {
   "cell_type": "code",
   "execution_count": 3,
   "metadata": {},
   "outputs": [],
   "source": [
    "evaluation_dir = f\"evaluation_results/{run_name}/wm\""
   ]
  },
  {
   "cell_type": "code",
   "execution_count": 5,
   "metadata": {},
   "outputs": [],
   "source": [
    "image_embedding = embedding.load_csv(evaluation_dir + \"/image_embedding.csv\")\n",
    "hidden_states = image_embedding.embedding"
   ]
  },
  {
   "cell_type": "code",
   "execution_count": null,
   "metadata": {},
   "outputs": [],
   "source": []
  },
  {
   "cell_type": "code",
   "execution_count": 6,
   "metadata": {},
   "outputs": [
    {
     "data": {
      "text/plain": [
       "array([ 546.6916371 ,  439.88164186,  547.9571277 ,  250.49921244,\n",
       "        476.01060817,  395.87258012,  582.00341711,  376.08195606,\n",
       "        485.34719424,  542.62411454,  357.82458796,  494.47049096,\n",
       "        328.57457746,  348.53717186,  556.75639818, 1375.0242803 ,\n",
       "        670.88086289,  325.95293527,  768.90741499,  451.61000618,\n",
       "        847.84301552,  581.40158559,  306.33747805,  494.27605473,\n",
       "        417.79752713, 1155.067985  ,  508.50986028,  328.41746753,\n",
       "        234.09221931,  584.08880376,  414.20940876,  493.71656256])"
      ]
     },
     "execution_count": 6,
     "metadata": {},
     "output_type": "execute_result"
    }
   ],
   "source": [
    "x = hidden_states[:32]\n",
    "np.sqrt(np.diag(x.dot(x.T)))"
   ]
  },
  {
   "cell_type": "code",
   "execution_count": 8,
   "metadata": {},
   "outputs": [
    {
     "data": {
      "text/plain": [
       "tensor([ 546.6916,  439.8816,  547.9571,  250.4992,  476.0106,  395.8726,\n",
       "         582.0034,  376.0820,  485.3472,  542.6241,  357.8246,  494.4705,\n",
       "         328.5746,  348.5372,  556.7564, 1375.0243,  670.8809,  325.9529,\n",
       "         768.9074,  451.6100,  847.8430,  581.4016,  306.3375,  494.2761,\n",
       "         417.7975, 1155.0680,  508.5099,  328.4175,  234.0922,  584.0888,\n",
       "         414.2094,  493.7166], dtype=torch.float64)"
      ]
     },
     "execution_count": 8,
     "metadata": {},
     "output_type": "execute_result"
    }
   ],
   "source": [
    "torch.linalg.norm(torch.tensor(x), dim=1)"
   ]
  },
  {
   "cell_type": "code",
   "execution_count": 23,
   "metadata": {},
   "outputs": [
    {
     "data": {
      "text/plain": [
       "tensor(520.4771, dtype=torch.float64)"
      ]
     },
     "execution_count": 23,
     "metadata": {},
     "output_type": "execute_result"
    }
   ],
   "source": [
    "l1 = torch.nn.L1Loss()\n",
    "lengths = torch.tensor(np.sqrt(np.diag(x.dot(x.T))))\n",
    "l1(lengths, torch.ones(lengths.shape))"
   ]
  },
  {
   "cell_type": "markdown",
   "metadata": {},
   "source": [
    "### PCA "
   ]
  },
  {
   "cell_type": "code",
   "execution_count": 6,
   "metadata": {},
   "outputs": [
    {
     "data": {
      "text/plain": [
       "PCA(n_components=50)"
      ]
     },
     "execution_count": 6,
     "metadata": {},
     "output_type": "execute_result"
    }
   ],
   "source": [
    "n = 50\n",
    "pca = PCA(n_components=n)\n",
    "pca.fit(hidden_states)"
   ]
  },
  {
   "cell_type": "code",
   "execution_count": 7,
   "metadata": {},
   "outputs": [],
   "source": [
    "explained_var_ratio = pca.explained_variance_ratio_"
   ]
  },
  {
   "cell_type": "code",
   "execution_count": 8,
   "metadata": {},
   "outputs": [
    {
     "data": {
      "text/plain": [
       "0.999993479916977"
      ]
     },
     "execution_count": 8,
     "metadata": {},
     "output_type": "execute_result"
    }
   ],
   "source": [
    "# how much variance is explained by the n dimensions with the largest variance\n",
    "sum(explained_var_ratio)"
   ]
  },
  {
   "cell_type": "code",
   "execution_count": 9,
   "metadata": {},
   "outputs": [
    {
     "data": {
      "image/png": "[encoded data removed]",
      "text/plain": [
       "<Figure size 432x288 with 1 Axes>"
      ]
     },
     "metadata": {
      "needs_background": "light"
     },
     "output_type": "display_data"
    }
   ],
   "source": [
    "# plot expained variance ratio\n",
    "plt.plot(explained_var_ratio)\n",
    "plt.show()"
   ]
  },
  {
   "cell_type": "code",
   "execution_count": 10,
   "metadata": {},
   "outputs": [
    {
     "data": {
      "text/plain": [
       "0.9999111884145339"
      ]
     },
     "execution_count": 10,
     "metadata": {},
     "output_type": "execute_result"
    }
   ],
   "source": [
    "sum(explained_var_ratio[:10])"
   ]
  },
  {
   "cell_type": "code",
   "execution_count": 13,
   "metadata": {},
   "outputs": [
    {
     "data": {
      "text/plain": [
       "0.9999111884145339"
      ]
     },
     "execution_count": 13,
     "metadata": {},
     "output_type": "execute_result"
    }
   ],
   "source": [
    "sum(explained_var_ratio[:10])"
   ]
  },
  {
   "cell_type": "markdown",
   "metadata": {},
   "source": [
    "### Pairwise distances"
   ]
  },
  {
   "cell_type": "code",
   "execution_count": 14,
   "metadata": {},
   "outputs": [],
   "source": [
    "import numpy as np\n",
    "rng = np.random.default_rng()"
   ]
  },
  {
   "cell_type": "code",
   "execution_count": 15,
   "metadata": {},
   "outputs": [],
   "source": [
    "# randomly sample n embedding vectors to not run out of memory\n",
    "n = 10000\n",
    "hidden_states_sample = rng.choice(hidden_states, n, replace=False)"
   ]
  },
  {
   "cell_type": "code",
   "execution_count": 16,
   "metadata": {},
   "outputs": [
    {
     "data": {
      "text/plain": [
       "(10000, 10000)"
      ]
     },
     "execution_count": 16,
     "metadata": {},
     "output_type": "execute_result"
    }
   ],
   "source": [
    "p_distances = sklearn.metrics.pairwise_distances(hidden_states_sample, metric='cosine')\n",
    "p_distances.shape"
   ]
  },
  {
   "cell_type": "code",
   "execution_count": 17,
   "metadata": {},
   "outputs": [
    {
     "data": {
      "image/png": "[encoded data removed]",
      "text/plain": [
       "<Figure size 720x720 with 1 Axes>"
      ]
     },
     "metadata": {
      "needs_background": "light"
     },
     "output_type": "display_data"
    }
   ],
   "source": [
    "fig, ax = plt.subplots(figsize = (10,10))\n",
    "ax.hist(p_distances.flatten(), bins=1000)\n",
    "plt.show()\n"
   ]
  },
  {
   "cell_type": "code",
   "execution_count": 18,
   "metadata": {},
   "outputs": [],
   "source": [
    "embedding_loaded = embedding.load_csv(\"data_local/wm/wm_sbert_title_districts_subjects_512d.csv\")"
   ]
  },
  {
   "cell_type": "code",
   "execution_count": 19,
   "metadata": {},
   "outputs": [],
   "source": [
    "# randomly sample n embedding vectors to not run out of memory\n",
    "n = 10000\n",
    "hidden_states_sample = rng.choice(embedding_loaded.embedding, n, replace=False)"
   ]
  },
  {
   "cell_type": "code",
   "execution_count": 20,
   "metadata": {},
   "outputs": [
    {
     "data": {
      "text/plain": [
       "(10000, 10000)"
      ]
     },
     "execution_count": 20,
     "metadata": {},
     "output_type": "execute_result"
    }
   ],
   "source": [
    "p_distances = sklearn.metrics.pairwise_distances(hidden_states_sample, metric='cosine')\n",
    "p_distances.shape"
   ]
  },
  {
   "cell_type": "code",
   "execution_count": 21,
   "metadata": {},
   "outputs": [
    {
     "data": {
      "image/png": "[encoded data removed]",
      "text/plain": [
       "<Figure size 720x720 with 1 Axes>"
      ]
     },
     "metadata": {
      "needs_background": "light"
     },
     "output_type": "display_data"
    }
   ],
   "source": [
    "fig, ax = plt.subplots(figsize = (10,10))\n",
    "ax.hist(p_distances.flatten(), bins=1000)\n",
    "plt.show()\n"
   ]
  }
 ],
 "metadata": {
  "kernelspec": {
   "display_name": "Python 3.9.11 ('livia')",
   "language": "python",
   "name": "python3"
  },
  "language_info": {
   "codemirror_mode": {
    "name": "ipython",
    "version": 3
   },
   "file_extension": ".py",
   "mimetype": "text/x-python",
   "name": "python",
   "nbconvert_exporter": "python",
   "pygments_lexer": "ipython3",
   "version": "3.9.11"
  },
  "orig_nbformat": 4,
  "vscode": {
   "interpreter": {
    "hash": "4853723be14513e11399f609d0948d8a05707e5d46f1599ed932a377c846aafa"
   }
  }
 },
 "nbformat": 4,
 "nbformat_minor": 2
}
